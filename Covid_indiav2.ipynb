{
  "nbformat": 4,
  "nbformat_minor": 0,
  "metadata": {
    "colab": {
      "name": "Covid_indiav2.ipynb",
      "provenance": [],
      "collapsed_sections": []
    },
    "kernelspec": {
      "name": "python3",
      "display_name": "Python 3"
    }
  },
  "cells": [
    {
      "cell_type": "code",
      "metadata": {
        "id": "6T1p_MyS9MCk",
        "colab_type": "code",
        "colab": {}
      },
      "source": [
        "import pandas as pd\n",
        "import matplotlib.pyplot as plt\n",
        "import numpy as np\n"
      ],
      "execution_count": 1,
      "outputs": []
    },
    {
      "cell_type": "markdown",
      "metadata": {
        "id": "u72_Guh2_Ayi",
        "colab_type": "text"
      },
      "source": [
        "load data into dataframe"
      ]
    },
    {
      "cell_type": "code",
      "metadata": {
        "id": "ewapf39A-2ZN",
        "colab_type": "code",
        "colab": {}
      },
      "source": [
        "data = pd.read_csv('/content/datasets_549966_1296705_complete.csv')"
      ],
      "execution_count": 2,
      "outputs": []
    },
    {
      "cell_type": "code",
      "metadata": {
        "id": "L15dQV8U-3ab",
        "colab_type": "code",
        "colab": {
          "base_uri": "https://localhost:8080/",
          "height": 223
        },
        "outputId": "e8e7c0fa-fcbf-4b1f-a706-2f4abea34315"
      },
      "source": [
        "data.head(5)"
      ],
      "execution_count": 3,
      "outputs": [
        {
          "output_type": "execute_result",
          "data": {
            "text/html": [
              "<div>\n",
              "<style scoped>\n",
              "    .dataframe tbody tr th:only-of-type {\n",
              "        vertical-align: middle;\n",
              "    }\n",
              "\n",
              "    .dataframe tbody tr th {\n",
              "        vertical-align: top;\n",
              "    }\n",
              "\n",
              "    .dataframe thead th {\n",
              "        text-align: right;\n",
              "    }\n",
              "</style>\n",
              "<table border=\"1\" class=\"dataframe\">\n",
              "  <thead>\n",
              "    <tr style=\"text-align: right;\">\n",
              "      <th></th>\n",
              "      <th>Date</th>\n",
              "      <th>Name of State / UT</th>\n",
              "      <th>Latitude</th>\n",
              "      <th>Longitude</th>\n",
              "      <th>Total Confirmed cases</th>\n",
              "      <th>Death</th>\n",
              "      <th>Cured/Discharged/Migrated</th>\n",
              "      <th>New cases</th>\n",
              "      <th>New deaths</th>\n",
              "      <th>New recovered</th>\n",
              "    </tr>\n",
              "  </thead>\n",
              "  <tbody>\n",
              "    <tr>\n",
              "      <th>0</th>\n",
              "      <td>2020-01-30</td>\n",
              "      <td>Kerala</td>\n",
              "      <td>10.8505</td>\n",
              "      <td>76.2711</td>\n",
              "      <td>1</td>\n",
              "      <td>0</td>\n",
              "      <td>0</td>\n",
              "      <td>0</td>\n",
              "      <td>0</td>\n",
              "      <td>0</td>\n",
              "    </tr>\n",
              "    <tr>\n",
              "      <th>1</th>\n",
              "      <td>2020-01-31</td>\n",
              "      <td>Kerala</td>\n",
              "      <td>10.8505</td>\n",
              "      <td>76.2711</td>\n",
              "      <td>1</td>\n",
              "      <td>0</td>\n",
              "      <td>0</td>\n",
              "      <td>0</td>\n",
              "      <td>0</td>\n",
              "      <td>0</td>\n",
              "    </tr>\n",
              "    <tr>\n",
              "      <th>2</th>\n",
              "      <td>2020-02-01</td>\n",
              "      <td>Kerala</td>\n",
              "      <td>10.8505</td>\n",
              "      <td>76.2711</td>\n",
              "      <td>2</td>\n",
              "      <td>0</td>\n",
              "      <td>0</td>\n",
              "      <td>1</td>\n",
              "      <td>0</td>\n",
              "      <td>0</td>\n",
              "    </tr>\n",
              "    <tr>\n",
              "      <th>3</th>\n",
              "      <td>2020-02-02</td>\n",
              "      <td>Kerala</td>\n",
              "      <td>10.8505</td>\n",
              "      <td>76.2711</td>\n",
              "      <td>3</td>\n",
              "      <td>0</td>\n",
              "      <td>0</td>\n",
              "      <td>1</td>\n",
              "      <td>0</td>\n",
              "      <td>0</td>\n",
              "    </tr>\n",
              "    <tr>\n",
              "      <th>4</th>\n",
              "      <td>2020-02-03</td>\n",
              "      <td>Kerala</td>\n",
              "      <td>10.8505</td>\n",
              "      <td>76.2711</td>\n",
              "      <td>3</td>\n",
              "      <td>0</td>\n",
              "      <td>0</td>\n",
              "      <td>0</td>\n",
              "      <td>0</td>\n",
              "      <td>0</td>\n",
              "    </tr>\n",
              "  </tbody>\n",
              "</table>\n",
              "</div>"
            ],
            "text/plain": [
              "         Date Name of State / UT  ...  New deaths  New recovered\n",
              "0  2020-01-30             Kerala  ...           0              0\n",
              "1  2020-01-31             Kerala  ...           0              0\n",
              "2  2020-02-01             Kerala  ...           0              0\n",
              "3  2020-02-02             Kerala  ...           0              0\n",
              "4  2020-02-03             Kerala  ...           0              0\n",
              "\n",
              "[5 rows x 10 columns]"
            ]
          },
          "metadata": {
            "tags": []
          },
          "execution_count": 3
        }
      ]
    },
    {
      "cell_type": "code",
      "metadata": {
        "id": "4QWtGQyS-7Ki",
        "colab_type": "code",
        "colab": {
          "base_uri": "https://localhost:8080/",
          "height": 35
        },
        "outputId": "35ca1424-c3bf-4239-fdd8-89a252ef507f"
      },
      "source": [
        "data.shape"
      ],
      "execution_count": 4,
      "outputs": [
        {
          "output_type": "execute_result",
          "data": {
            "text/plain": [
              "(3510, 10)"
            ]
          },
          "metadata": {
            "tags": []
          },
          "execution_count": 4
        }
      ]
    },
    {
      "cell_type": "code",
      "metadata": {
        "id": "K0S_fZkd--YC",
        "colab_type": "code",
        "colab": {
          "base_uri": "https://localhost:8080/",
          "height": 344
        },
        "outputId": "d44884db-d33d-4fe4-88b7-a727208c4fd8"
      },
      "source": [
        "print(data.info())"
      ],
      "execution_count": 5,
      "outputs": [
        {
          "output_type": "stream",
          "text": [
            "<class 'pandas.core.frame.DataFrame'>\n",
            "RangeIndex: 3510 entries, 0 to 3509\n",
            "Data columns (total 10 columns):\n",
            " #   Column                     Non-Null Count  Dtype  \n",
            "---  ------                     --------------  -----  \n",
            " 0   Date                       3510 non-null   object \n",
            " 1   Name of State / UT         3510 non-null   object \n",
            " 2   Latitude                   3510 non-null   float64\n",
            " 3   Longitude                  3510 non-null   float64\n",
            " 4   Total Confirmed cases      3510 non-null   int64  \n",
            " 5   Death                      3510 non-null   int64  \n",
            " 6   Cured/Discharged/Migrated  3510 non-null   int64  \n",
            " 7   New cases                  3510 non-null   int64  \n",
            " 8   New deaths                 3510 non-null   int64  \n",
            " 9   New recovered              3510 non-null   int64  \n",
            "dtypes: float64(2), int64(6), object(2)\n",
            "memory usage: 274.3+ KB\n",
            "None\n"
          ],
          "name": "stdout"
        }
      ]
    },
    {
      "cell_type": "code",
      "metadata": {
        "id": "-Pnh9ndftEpv",
        "colab_type": "code",
        "colab": {}
      },
      "source": [
        "data_india = data.groupby('Date').sum()"
      ],
      "execution_count": 6,
      "outputs": []
    },
    {
      "cell_type": "code",
      "metadata": {
        "id": "_VaUVFZWtKNN",
        "colab_type": "code",
        "colab": {
          "base_uri": "https://localhost:8080/",
          "height": 237
        },
        "outputId": "32d8f24b-9926-43b8-d8f8-48087ebf25c4"
      },
      "source": [
        "data_india.tail()"
      ],
      "execution_count": 7,
      "outputs": [
        {
          "output_type": "execute_result",
          "data": {
            "text/html": [
              "<div>\n",
              "<style scoped>\n",
              "    .dataframe tbody tr th:only-of-type {\n",
              "        vertical-align: middle;\n",
              "    }\n",
              "\n",
              "    .dataframe tbody tr th {\n",
              "        vertical-align: top;\n",
              "    }\n",
              "\n",
              "    .dataframe thead th {\n",
              "        text-align: right;\n",
              "    }\n",
              "</style>\n",
              "<table border=\"1\" class=\"dataframe\">\n",
              "  <thead>\n",
              "    <tr style=\"text-align: right;\">\n",
              "      <th></th>\n",
              "      <th>Latitude</th>\n",
              "      <th>Longitude</th>\n",
              "      <th>Total Confirmed cases</th>\n",
              "      <th>Death</th>\n",
              "      <th>Cured/Discharged/Migrated</th>\n",
              "      <th>New cases</th>\n",
              "      <th>New deaths</th>\n",
              "      <th>New recovered</th>\n",
              "    </tr>\n",
              "    <tr>\n",
              "      <th>Date</th>\n",
              "      <th></th>\n",
              "      <th></th>\n",
              "      <th></th>\n",
              "      <th></th>\n",
              "      <th></th>\n",
              "      <th></th>\n",
              "      <th></th>\n",
              "      <th></th>\n",
              "    </tr>\n",
              "  </thead>\n",
              "  <tbody>\n",
              "    <tr>\n",
              "      <th>2020-06-25</th>\n",
              "      <td>817.4984</td>\n",
              "      <td>2872.458</td>\n",
              "      <td>464612</td>\n",
              "      <td>14894</td>\n",
              "      <td>271697</td>\n",
              "      <td>16570</td>\n",
              "      <td>418</td>\n",
              "      <td>13012</td>\n",
              "    </tr>\n",
              "    <tr>\n",
              "      <th>2020-06-27</th>\n",
              "      <td>817.4984</td>\n",
              "      <td>2872.458</td>\n",
              "      <td>500930</td>\n",
              "      <td>15685</td>\n",
              "      <td>295881</td>\n",
              "      <td>36318</td>\n",
              "      <td>791</td>\n",
              "      <td>24184</td>\n",
              "    </tr>\n",
              "    <tr>\n",
              "      <th>2020-06-28</th>\n",
              "      <td>817.4984</td>\n",
              "      <td>2872.458</td>\n",
              "      <td>521020</td>\n",
              "      <td>16095</td>\n",
              "      <td>309713</td>\n",
              "      <td>20090</td>\n",
              "      <td>410</td>\n",
              "      <td>13832</td>\n",
              "    </tr>\n",
              "    <tr>\n",
              "      <th>2020-06-29</th>\n",
              "      <td>817.4984</td>\n",
              "      <td>2872.458</td>\n",
              "      <td>541033</td>\n",
              "      <td>16475</td>\n",
              "      <td>321723</td>\n",
              "      <td>20013</td>\n",
              "      <td>380</td>\n",
              "      <td>12010</td>\n",
              "    </tr>\n",
              "    <tr>\n",
              "      <th>2020-06-30</th>\n",
              "      <td>817.4984</td>\n",
              "      <td>2872.458</td>\n",
              "      <td>559836</td>\n",
              "      <td>16893</td>\n",
              "      <td>334822</td>\n",
              "      <td>18803</td>\n",
              "      <td>418</td>\n",
              "      <td>13099</td>\n",
              "    </tr>\n",
              "  </tbody>\n",
              "</table>\n",
              "</div>"
            ],
            "text/plain": [
              "            Latitude  Longitude  ...  New deaths  New recovered\n",
              "Date                             ...                           \n",
              "2020-06-25  817.4984   2872.458  ...         418          13012\n",
              "2020-06-27  817.4984   2872.458  ...         791          24184\n",
              "2020-06-28  817.4984   2872.458  ...         410          13832\n",
              "2020-06-29  817.4984   2872.458  ...         380          12010\n",
              "2020-06-30  817.4984   2872.458  ...         418          13099\n",
              "\n",
              "[5 rows x 8 columns]"
            ]
          },
          "metadata": {
            "tags": []
          },
          "execution_count": 7
        }
      ]
    },
    {
      "cell_type": "code",
      "metadata": {
        "id": "4rJZa_dH_ZPz",
        "colab_type": "code",
        "colab": {
          "base_uri": "https://localhost:8080/",
          "height": 73
        },
        "outputId": "91a63c91-2900-4cc5-c3cd-6f966ec5b03d"
      },
      "source": [
        "data_num_india = data.groupby('Date')[\"Total Confirmed cases\", \"Cured/Discharged/Migrated\", \"Death\"].sum()"
      ],
      "execution_count": 8,
      "outputs": [
        {
          "output_type": "stream",
          "text": [
            "/usr/local/lib/python3.6/dist-packages/ipykernel_launcher.py:1: FutureWarning: Indexing with multiple keys (implicitly converted to a tuple of keys) will be deprecated, use a list instead.\n",
            "  \"\"\"Entry point for launching an IPython kernel.\n"
          ],
          "name": "stderr"
        }
      ]
    },
    {
      "cell_type": "code",
      "metadata": {
        "id": "-nywe0tgTVma",
        "colab_type": "code",
        "colab": {
          "base_uri": "https://localhost:8080/",
          "height": 237
        },
        "outputId": "c90b405a-d2ca-4d44-826f-c43f95d8d72f"
      },
      "source": [
        "data_num_india.head(5)"
      ],
      "execution_count": 9,
      "outputs": [
        {
          "output_type": "execute_result",
          "data": {
            "text/html": [
              "<div>\n",
              "<style scoped>\n",
              "    .dataframe tbody tr th:only-of-type {\n",
              "        vertical-align: middle;\n",
              "    }\n",
              "\n",
              "    .dataframe tbody tr th {\n",
              "        vertical-align: top;\n",
              "    }\n",
              "\n",
              "    .dataframe thead th {\n",
              "        text-align: right;\n",
              "    }\n",
              "</style>\n",
              "<table border=\"1\" class=\"dataframe\">\n",
              "  <thead>\n",
              "    <tr style=\"text-align: right;\">\n",
              "      <th></th>\n",
              "      <th>Total Confirmed cases</th>\n",
              "      <th>Cured/Discharged/Migrated</th>\n",
              "      <th>Death</th>\n",
              "    </tr>\n",
              "    <tr>\n",
              "      <th>Date</th>\n",
              "      <th></th>\n",
              "      <th></th>\n",
              "      <th></th>\n",
              "    </tr>\n",
              "  </thead>\n",
              "  <tbody>\n",
              "    <tr>\n",
              "      <th>2020-01-30</th>\n",
              "      <td>1</td>\n",
              "      <td>0</td>\n",
              "      <td>0</td>\n",
              "    </tr>\n",
              "    <tr>\n",
              "      <th>2020-01-31</th>\n",
              "      <td>1</td>\n",
              "      <td>0</td>\n",
              "      <td>0</td>\n",
              "    </tr>\n",
              "    <tr>\n",
              "      <th>2020-02-01</th>\n",
              "      <td>2</td>\n",
              "      <td>0</td>\n",
              "      <td>0</td>\n",
              "    </tr>\n",
              "    <tr>\n",
              "      <th>2020-02-02</th>\n",
              "      <td>3</td>\n",
              "      <td>0</td>\n",
              "      <td>0</td>\n",
              "    </tr>\n",
              "    <tr>\n",
              "      <th>2020-02-03</th>\n",
              "      <td>3</td>\n",
              "      <td>0</td>\n",
              "      <td>0</td>\n",
              "    </tr>\n",
              "  </tbody>\n",
              "</table>\n",
              "</div>"
            ],
            "text/plain": [
              "            Total Confirmed cases  Cured/Discharged/Migrated  Death\n",
              "Date                                                               \n",
              "2020-01-30                      1                          0      0\n",
              "2020-01-31                      1                          0      0\n",
              "2020-02-01                      2                          0      0\n",
              "2020-02-02                      3                          0      0\n",
              "2020-02-03                      3                          0      0"
            ]
          },
          "metadata": {
            "tags": []
          },
          "execution_count": 9
        }
      ]
    },
    {
      "cell_type": "code",
      "metadata": {
        "id": "mDADqStANUjv",
        "colab_type": "code",
        "colab": {}
      },
      "source": [
        "datakerala = data.loc[data['Name of State / UT']=='Kerala']\n",
        "#df.loc[df['column_name'] == some_value]\n",
        "#https://stackoverflow.com/questions/17071871/how-to-select-rows-from-a-dataframe-based-on-column-values"
      ],
      "execution_count": 10,
      "outputs": []
    },
    {
      "cell_type": "code",
      "metadata": {
        "id": "GyaUBsJBNbnH",
        "colab_type": "code",
        "colab": {
          "base_uri": "https://localhost:8080/",
          "height": 441
        },
        "outputId": "37d65a04-73b1-43ce-d509-e3e7232db71b"
      },
      "source": [
        "datakerala"
      ],
      "execution_count": 11,
      "outputs": [
        {
          "output_type": "execute_result",
          "data": {
            "text/html": [
              "<div>\n",
              "<style scoped>\n",
              "    .dataframe tbody tr th:only-of-type {\n",
              "        vertical-align: middle;\n",
              "    }\n",
              "\n",
              "    .dataframe tbody tr th {\n",
              "        vertical-align: top;\n",
              "    }\n",
              "\n",
              "    .dataframe thead th {\n",
              "        text-align: right;\n",
              "    }\n",
              "</style>\n",
              "<table border=\"1\" class=\"dataframe\">\n",
              "  <thead>\n",
              "    <tr style=\"text-align: right;\">\n",
              "      <th></th>\n",
              "      <th>Date</th>\n",
              "      <th>Name of State / UT</th>\n",
              "      <th>Latitude</th>\n",
              "      <th>Longitude</th>\n",
              "      <th>Total Confirmed cases</th>\n",
              "      <th>Death</th>\n",
              "      <th>Cured/Discharged/Migrated</th>\n",
              "      <th>New cases</th>\n",
              "      <th>New deaths</th>\n",
              "      <th>New recovered</th>\n",
              "    </tr>\n",
              "  </thead>\n",
              "  <tbody>\n",
              "    <tr>\n",
              "      <th>0</th>\n",
              "      <td>2020-01-30</td>\n",
              "      <td>Kerala</td>\n",
              "      <td>10.8505</td>\n",
              "      <td>76.2711</td>\n",
              "      <td>1</td>\n",
              "      <td>0</td>\n",
              "      <td>0</td>\n",
              "      <td>0</td>\n",
              "      <td>0</td>\n",
              "      <td>0</td>\n",
              "    </tr>\n",
              "    <tr>\n",
              "      <th>1</th>\n",
              "      <td>2020-01-31</td>\n",
              "      <td>Kerala</td>\n",
              "      <td>10.8505</td>\n",
              "      <td>76.2711</td>\n",
              "      <td>1</td>\n",
              "      <td>0</td>\n",
              "      <td>0</td>\n",
              "      <td>0</td>\n",
              "      <td>0</td>\n",
              "      <td>0</td>\n",
              "    </tr>\n",
              "    <tr>\n",
              "      <th>2</th>\n",
              "      <td>2020-02-01</td>\n",
              "      <td>Kerala</td>\n",
              "      <td>10.8505</td>\n",
              "      <td>76.2711</td>\n",
              "      <td>2</td>\n",
              "      <td>0</td>\n",
              "      <td>0</td>\n",
              "      <td>1</td>\n",
              "      <td>0</td>\n",
              "      <td>0</td>\n",
              "    </tr>\n",
              "    <tr>\n",
              "      <th>3</th>\n",
              "      <td>2020-02-02</td>\n",
              "      <td>Kerala</td>\n",
              "      <td>10.8505</td>\n",
              "      <td>76.2711</td>\n",
              "      <td>3</td>\n",
              "      <td>0</td>\n",
              "      <td>0</td>\n",
              "      <td>1</td>\n",
              "      <td>0</td>\n",
              "      <td>0</td>\n",
              "    </tr>\n",
              "    <tr>\n",
              "      <th>4</th>\n",
              "      <td>2020-02-03</td>\n",
              "      <td>Kerala</td>\n",
              "      <td>10.8505</td>\n",
              "      <td>76.2711</td>\n",
              "      <td>3</td>\n",
              "      <td>0</td>\n",
              "      <td>0</td>\n",
              "      <td>0</td>\n",
              "      <td>0</td>\n",
              "      <td>0</td>\n",
              "    </tr>\n",
              "    <tr>\n",
              "      <th>...</th>\n",
              "      <td>...</td>\n",
              "      <td>...</td>\n",
              "      <td>...</td>\n",
              "      <td>...</td>\n",
              "      <td>...</td>\n",
              "      <td>...</td>\n",
              "      <td>...</td>\n",
              "      <td>...</td>\n",
              "      <td>...</td>\n",
              "      <td>...</td>\n",
              "    </tr>\n",
              "    <tr>\n",
              "      <th>3351</th>\n",
              "      <td>2020-06-25</td>\n",
              "      <td>Kerala</td>\n",
              "      <td>10.8505</td>\n",
              "      <td>76.2711</td>\n",
              "      <td>3603</td>\n",
              "      <td>22</td>\n",
              "      <td>1888</td>\n",
              "      <td>152</td>\n",
              "      <td>0</td>\n",
              "      <td>79</td>\n",
              "    </tr>\n",
              "    <tr>\n",
              "      <th>3386</th>\n",
              "      <td>2020-06-27</td>\n",
              "      <td>Kerala</td>\n",
              "      <td>10.8505</td>\n",
              "      <td>76.2711</td>\n",
              "      <td>3876</td>\n",
              "      <td>22</td>\n",
              "      <td>2008</td>\n",
              "      <td>273</td>\n",
              "      <td>0</td>\n",
              "      <td>120</td>\n",
              "    </tr>\n",
              "    <tr>\n",
              "      <th>3421</th>\n",
              "      <td>2020-06-28</td>\n",
              "      <td>Kerala</td>\n",
              "      <td>10.8505</td>\n",
              "      <td>76.2711</td>\n",
              "      <td>4071</td>\n",
              "      <td>22</td>\n",
              "      <td>2110</td>\n",
              "      <td>195</td>\n",
              "      <td>0</td>\n",
              "      <td>102</td>\n",
              "    </tr>\n",
              "    <tr>\n",
              "      <th>3456</th>\n",
              "      <td>2020-06-29</td>\n",
              "      <td>Kerala</td>\n",
              "      <td>10.8505</td>\n",
              "      <td>76.2711</td>\n",
              "      <td>4189</td>\n",
              "      <td>22</td>\n",
              "      <td>2152</td>\n",
              "      <td>118</td>\n",
              "      <td>0</td>\n",
              "      <td>42</td>\n",
              "    </tr>\n",
              "    <tr>\n",
              "      <th>3491</th>\n",
              "      <td>2020-06-30</td>\n",
              "      <td>Kerala</td>\n",
              "      <td>10.8505</td>\n",
              "      <td>76.2711</td>\n",
              "      <td>4189</td>\n",
              "      <td>22</td>\n",
              "      <td>2152</td>\n",
              "      <td>0</td>\n",
              "      <td>0</td>\n",
              "      <td>0</td>\n",
              "    </tr>\n",
              "  </tbody>\n",
              "</table>\n",
              "<p>152 rows × 10 columns</p>\n",
              "</div>"
            ],
            "text/plain": [
              "            Date Name of State / UT  ...  New deaths  New recovered\n",
              "0     2020-01-30             Kerala  ...           0              0\n",
              "1     2020-01-31             Kerala  ...           0              0\n",
              "2     2020-02-01             Kerala  ...           0              0\n",
              "3     2020-02-02             Kerala  ...           0              0\n",
              "4     2020-02-03             Kerala  ...           0              0\n",
              "...          ...                ...  ...         ...            ...\n",
              "3351  2020-06-25             Kerala  ...           0             79\n",
              "3386  2020-06-27             Kerala  ...           0            120\n",
              "3421  2020-06-28             Kerala  ...           0            102\n",
              "3456  2020-06-29             Kerala  ...           0             42\n",
              "3491  2020-06-30             Kerala  ...           0              0\n",
              "\n",
              "[152 rows x 10 columns]"
            ]
          },
          "metadata": {
            "tags": []
          },
          "execution_count": 11
        }
      ]
    },
    {
      "cell_type": "markdown",
      "metadata": {
        "id": "Y2CrFFOyAprS",
        "colab_type": "text"
      },
      "source": [
        "data is updated till 30th june"
      ]
    },
    {
      "cell_type": "code",
      "metadata": {
        "id": "vZuNOlbk_8CK",
        "colab_type": "code",
        "colab": {
          "base_uri": "https://localhost:8080/",
          "height": 143
        },
        "outputId": "a3f01af1-d382-41df-825e-61b307449f4e"
      },
      "source": [
        "data_num_india.tail(2)"
      ],
      "execution_count": 12,
      "outputs": [
        {
          "output_type": "execute_result",
          "data": {
            "text/html": [
              "<div>\n",
              "<style scoped>\n",
              "    .dataframe tbody tr th:only-of-type {\n",
              "        vertical-align: middle;\n",
              "    }\n",
              "\n",
              "    .dataframe tbody tr th {\n",
              "        vertical-align: top;\n",
              "    }\n",
              "\n",
              "    .dataframe thead th {\n",
              "        text-align: right;\n",
              "    }\n",
              "</style>\n",
              "<table border=\"1\" class=\"dataframe\">\n",
              "  <thead>\n",
              "    <tr style=\"text-align: right;\">\n",
              "      <th></th>\n",
              "      <th>Total Confirmed cases</th>\n",
              "      <th>Cured/Discharged/Migrated</th>\n",
              "      <th>Death</th>\n",
              "    </tr>\n",
              "    <tr>\n",
              "      <th>Date</th>\n",
              "      <th></th>\n",
              "      <th></th>\n",
              "      <th></th>\n",
              "    </tr>\n",
              "  </thead>\n",
              "  <tbody>\n",
              "    <tr>\n",
              "      <th>2020-06-29</th>\n",
              "      <td>541033</td>\n",
              "      <td>321723</td>\n",
              "      <td>16475</td>\n",
              "    </tr>\n",
              "    <tr>\n",
              "      <th>2020-06-30</th>\n",
              "      <td>559836</td>\n",
              "      <td>334822</td>\n",
              "      <td>16893</td>\n",
              "    </tr>\n",
              "  </tbody>\n",
              "</table>\n",
              "</div>"
            ],
            "text/plain": [
              "            Total Confirmed cases  Cured/Discharged/Migrated  Death\n",
              "Date                                                               \n",
              "2020-06-29                 541033                     321723  16475\n",
              "2020-06-30                 559836                     334822  16893"
            ]
          },
          "metadata": {
            "tags": []
          },
          "execution_count": 12
        }
      ]
    },
    {
      "cell_type": "code",
      "metadata": {
        "id": "T_bYz_0mH1fm",
        "colab_type": "code",
        "colab": {
          "base_uri": "https://localhost:8080/",
          "height": 480
        },
        "outputId": "6bd5d0b4-51c9-42bc-95bc-ee43dbbb7196"
      },
      "source": [
        "data_num_india.plot(figsize=(20,8),title='Per Day statistics for india',colormap='plasma')\n",
        "plt.ylabel('number of cases') \n",
        "plt.show()\n",
        "#https://matplotlib.org/3.1.0/tutorials/colors/colormaps.html"
      ],
      "execution_count": 61,
      "outputs": [
        {
          "output_type": "display_data",
          "data": {
            "image/png": "[encoded data removed]",
            "text/plain": [
              "<Figure size 1440x576 with 1 Axes>"
            ]
          },
          "metadata": {
            "tags": [],
            "needs_background": "light"
          }
        }
      ]
    },
    {
      "cell_type": "code",
      "metadata": {
        "id": "OLg5uuK7ID3u",
        "colab_type": "code",
        "colab": {
          "base_uri": "https://localhost:8080/",
          "height": 480
        },
        "outputId": "0aea73cf-266f-4ba2-b785-120efca18d07"
      },
      "source": [
        "data_num_india.plot(figsize=(20,8),title='Per Day statistics for india',colormap='viridis',marker='.')\n",
        "plt.ylabel('number of cases') \n",
        "plt.show()\n",
        "#https://matplotlib.org/3.1.1/api/markers_api.html"
      ],
      "execution_count": 62,
      "outputs": [
        {
          "output_type": "display_data",
          "data": {
            "image/png": "[encoded data removed]",
            "text/plain": [
              "<Figure size 1440x576 with 1 Axes>"
            ]
          },
          "metadata": {
            "tags": [],
            "needs_background": "light"
          }
        }
      ]
    },
    {
      "cell_type": "code",
      "metadata": {
        "id": "CH2wenvhIiA_",
        "colab_type": "code",
        "colab": {
          "base_uri": "https://localhost:8080/",
          "height": 175
        },
        "outputId": "435af9c2-c5d3-40e1-abcc-0eb998361bea"
      },
      "source": [
        "data_num_india.head(3)\n"
      ],
      "execution_count": 15,
      "outputs": [
        {
          "output_type": "execute_result",
          "data": {
            "text/html": [
              "<div>\n",
              "<style scoped>\n",
              "    .dataframe tbody tr th:only-of-type {\n",
              "        vertical-align: middle;\n",
              "    }\n",
              "\n",
              "    .dataframe tbody tr th {\n",
              "        vertical-align: top;\n",
              "    }\n",
              "\n",
              "    .dataframe thead th {\n",
              "        text-align: right;\n",
              "    }\n",
              "</style>\n",
              "<table border=\"1\" class=\"dataframe\">\n",
              "  <thead>\n",
              "    <tr style=\"text-align: right;\">\n",
              "      <th></th>\n",
              "      <th>Total Confirmed cases</th>\n",
              "      <th>Cured/Discharged/Migrated</th>\n",
              "      <th>Death</th>\n",
              "    </tr>\n",
              "    <tr>\n",
              "      <th>Date</th>\n",
              "      <th></th>\n",
              "      <th></th>\n",
              "      <th></th>\n",
              "    </tr>\n",
              "  </thead>\n",
              "  <tbody>\n",
              "    <tr>\n",
              "      <th>2020-01-30</th>\n",
              "      <td>1</td>\n",
              "      <td>0</td>\n",
              "      <td>0</td>\n",
              "    </tr>\n",
              "    <tr>\n",
              "      <th>2020-01-31</th>\n",
              "      <td>1</td>\n",
              "      <td>0</td>\n",
              "      <td>0</td>\n",
              "    </tr>\n",
              "    <tr>\n",
              "      <th>2020-02-01</th>\n",
              "      <td>2</td>\n",
              "      <td>0</td>\n",
              "      <td>0</td>\n",
              "    </tr>\n",
              "  </tbody>\n",
              "</table>\n",
              "</div>"
            ],
            "text/plain": [
              "            Total Confirmed cases  Cured/Discharged/Migrated  Death\n",
              "Date                                                               \n",
              "2020-01-30                      1                          0      0\n",
              "2020-01-31                      1                          0      0\n",
              "2020-02-01                      2                          0      0"
            ]
          },
          "metadata": {
            "tags": []
          },
          "execution_count": 15
        }
      ]
    },
    {
      "cell_type": "code",
      "metadata": {
        "id": "kOThNnm6J26-",
        "colab_type": "code",
        "colab": {
          "base_uri": "https://localhost:8080/",
          "height": 112
        },
        "outputId": "c2e9533f-d728-4cea-d3f6-9240642ee38c"
      },
      "source": [
        "data_num_india.head(1)"
      ],
      "execution_count": 16,
      "outputs": [
        {
          "output_type": "execute_result",
          "data": {
            "text/html": [
              "<div>\n",
              "<style scoped>\n",
              "    .dataframe tbody tr th:only-of-type {\n",
              "        vertical-align: middle;\n",
              "    }\n",
              "\n",
              "    .dataframe tbody tr th {\n",
              "        vertical-align: top;\n",
              "    }\n",
              "\n",
              "    .dataframe thead th {\n",
              "        text-align: right;\n",
              "    }\n",
              "</style>\n",
              "<table border=\"1\" class=\"dataframe\">\n",
              "  <thead>\n",
              "    <tr style=\"text-align: right;\">\n",
              "      <th></th>\n",
              "      <th>Total Confirmed cases</th>\n",
              "      <th>Cured/Discharged/Migrated</th>\n",
              "      <th>Death</th>\n",
              "    </tr>\n",
              "    <tr>\n",
              "      <th>Date</th>\n",
              "      <th></th>\n",
              "      <th></th>\n",
              "      <th></th>\n",
              "    </tr>\n",
              "  </thead>\n",
              "  <tbody>\n",
              "    <tr>\n",
              "      <th>2020-01-30</th>\n",
              "      <td>1</td>\n",
              "      <td>0</td>\n",
              "      <td>0</td>\n",
              "    </tr>\n",
              "  </tbody>\n",
              "</table>\n",
              "</div>"
            ],
            "text/plain": [
              "            Total Confirmed cases  Cured/Discharged/Migrated  Death\n",
              "Date                                                               \n",
              "2020-01-30                      1                          0      0"
            ]
          },
          "metadata": {
            "tags": []
          },
          "execution_count": 16
        }
      ]
    },
    {
      "cell_type": "code",
      "metadata": {
        "id": "8eOXuZyiJwEZ",
        "colab_type": "code",
        "colab": {}
      },
      "source": [
        "ds = datakerala.iloc[:,0]\n"
      ],
      "execution_count": 17,
      "outputs": []
    },
    {
      "cell_type": "code",
      "metadata": {
        "id": "BjICDyGYO0bm",
        "colab_type": "code",
        "colab": {}
      },
      "source": [
        "ds.reset_index(drop=True, inplace=True)       # used for reseting index very usefull"
      ],
      "execution_count": 18,
      "outputs": []
    },
    {
      "cell_type": "code",
      "metadata": {
        "id": "ayU16s3wLRkf",
        "colab_type": "code",
        "colab": {
          "base_uri": "https://localhost:8080/",
          "height": 235
        },
        "outputId": "57517701-179c-4c3b-a0f1-d92b13e2c7fd"
      },
      "source": [
        "ds"
      ],
      "execution_count": 19,
      "outputs": [
        {
          "output_type": "execute_result",
          "data": {
            "text/plain": [
              "0      2020-01-30\n",
              "1      2020-01-31\n",
              "2      2020-02-01\n",
              "3      2020-02-02\n",
              "4      2020-02-03\n",
              "          ...    \n",
              "147    2020-06-25\n",
              "148    2020-06-27\n",
              "149    2020-06-28\n",
              "150    2020-06-29\n",
              "151    2020-06-30\n",
              "Name: Date, Length: 152, dtype: object"
            ]
          },
          "metadata": {
            "tags": []
          },
          "execution_count": 19
        }
      ]
    },
    {
      "cell_type": "code",
      "metadata": {
        "id": "T2Aa1S1kNxzt",
        "colab_type": "code",
        "colab": {
          "base_uri": "https://localhost:8080/",
          "height": 35
        },
        "outputId": "2b6e07f4-f35b-46f3-ddac-7dad264d8804"
      },
      "source": [
        "type(ds)"
      ],
      "execution_count": 20,
      "outputs": [
        {
          "output_type": "execute_result",
          "data": {
            "text/plain": [
              "pandas.core.series.Series"
            ]
          },
          "metadata": {
            "tags": []
          },
          "execution_count": 20
        }
      ]
    },
    {
      "cell_type": "code",
      "metadata": {
        "id": "QvSsiG1BKEen",
        "colab_type": "code",
        "colab": {}
      },
      "source": [
        "ya = data_num_india.pop('Total Confirmed cases')\n",
        "ya.reset_index(drop=True, inplace=True)"
      ],
      "execution_count": 21,
      "outputs": []
    },
    {
      "cell_type": "code",
      "metadata": {
        "id": "sv8o7es2LV7t",
        "colab_type": "code",
        "colab": {
          "base_uri": "https://localhost:8080/",
          "height": 235
        },
        "outputId": "7ebd325b-7d38-4bb3-fc2f-ce1a2e09512e"
      },
      "source": [
        "ya\n"
      ],
      "execution_count": 22,
      "outputs": [
        {
          "output_type": "execute_result",
          "data": {
            "text/plain": [
              "0           1\n",
              "1           1\n",
              "2           2\n",
              "3           3\n",
              "4           3\n",
              "        ...  \n",
              "147    464612\n",
              "148    500930\n",
              "149    521020\n",
              "150    541033\n",
              "151    559836\n",
              "Name: Total Confirmed cases, Length: 152, dtype: int64"
            ]
          },
          "metadata": {
            "tags": []
          },
          "execution_count": 22
        }
      ]
    },
    {
      "cell_type": "code",
      "metadata": {
        "id": "ydOGc8E2KTZU",
        "colab_type": "code",
        "colab": {
          "base_uri": "https://localhost:8080/",
          "height": 382
        },
        "outputId": "1e6bbf1b-2d4b-4b26-9de1-0c1c7ee0af46"
      },
      "source": [
        "!pip install fbprophet"
      ],
      "execution_count": 23,
      "outputs": [
        {
          "output_type": "stream",
          "text": [
            "Requirement already satisfied: fbprophet in /usr/local/lib/python3.6/dist-packages (0.6)\n",
            "Requirement already satisfied: Cython>=0.22 in /usr/local/lib/python3.6/dist-packages (from fbprophet) (0.29.21)\n",
            "Requirement already satisfied: cmdstanpy==0.4 in /usr/local/lib/python3.6/dist-packages (from fbprophet) (0.4.0)\n",
            "Requirement already satisfied: pystan>=2.14 in /usr/local/lib/python3.6/dist-packages (from fbprophet) (2.19.1.1)\n",
            "Requirement already satisfied: numpy>=1.10.0 in /usr/local/lib/python3.6/dist-packages (from fbprophet) (1.18.5)\n",
            "Requirement already satisfied: pandas>=0.23.4 in /usr/local/lib/python3.6/dist-packages (from fbprophet) (1.0.5)\n",
            "Requirement already satisfied: matplotlib>=2.0.0 in /usr/local/lib/python3.6/dist-packages (from fbprophet) (3.2.2)\n",
            "Requirement already satisfied: LunarCalendar>=0.0.9 in /usr/local/lib/python3.6/dist-packages (from fbprophet) (0.0.9)\n",
            "Requirement already satisfied: convertdate>=2.1.2 in /usr/local/lib/python3.6/dist-packages (from fbprophet) (2.2.1)\n",
            "Requirement already satisfied: holidays>=0.9.5 in /usr/local/lib/python3.6/dist-packages (from fbprophet) (0.9.12)\n",
            "Requirement already satisfied: setuptools-git>=1.2 in /usr/local/lib/python3.6/dist-packages (from fbprophet) (1.2)\n",
            "Requirement already satisfied: python-dateutil>=2.8.0 in /usr/local/lib/python3.6/dist-packages (from fbprophet) (2.8.1)\n",
            "Requirement already satisfied: pytz>=2017.2 in /usr/local/lib/python3.6/dist-packages (from pandas>=0.23.4->fbprophet) (2018.9)\n",
            "Requirement already satisfied: pyparsing!=2.0.4,!=2.1.2,!=2.1.6,>=2.0.1 in /usr/local/lib/python3.6/dist-packages (from matplotlib>=2.0.0->fbprophet) (2.4.7)\n",
            "Requirement already satisfied: kiwisolver>=1.0.1 in /usr/local/lib/python3.6/dist-packages (from matplotlib>=2.0.0->fbprophet) (1.2.0)\n",
            "Requirement already satisfied: cycler>=0.10 in /usr/local/lib/python3.6/dist-packages (from matplotlib>=2.0.0->fbprophet) (0.10.0)\n",
            "Requirement already satisfied: ephem>=3.7.5.3 in /usr/local/lib/python3.6/dist-packages (from LunarCalendar>=0.0.9->fbprophet) (3.7.7.1)\n",
            "Requirement already satisfied: pymeeus<=1,>=0.3.6 in /usr/local/lib/python3.6/dist-packages (from convertdate>=2.1.2->fbprophet) (0.3.7)\n",
            "Requirement already satisfied: six in /usr/local/lib/python3.6/dist-packages (from holidays>=0.9.5->fbprophet) (1.12.0)\n"
          ],
          "name": "stdout"
        }
      ]
    },
    {
      "cell_type": "code",
      "metadata": {
        "id": "4uyFhIsqKWkF",
        "colab_type": "code",
        "colab": {}
      },
      "source": [
        "from fbprophet import Prophet\n",
        "prophet_basic = Prophet()"
      ],
      "execution_count": 24,
      "outputs": []
    },
    {
      "cell_type": "code",
      "metadata": {
        "id": "YrTHfi6AKbsG",
        "colab_type": "code",
        "colab": {
          "base_uri": "https://localhost:8080/",
          "height": 112
        },
        "outputId": "8e666212-addc-485e-e158-0fffd4c12cb6"
      },
      "source": [
        "input= pd.DataFrame()\n",
        "input['ds'] = pd.to_datetime(ds)\n",
        "input['y']=ya\n",
        "input.head(2)"
      ],
      "execution_count": 25,
      "outputs": [
        {
          "output_type": "execute_result",
          "data": {
            "text/html": [
              "<div>\n",
              "<style scoped>\n",
              "    .dataframe tbody tr th:only-of-type {\n",
              "        vertical-align: middle;\n",
              "    }\n",
              "\n",
              "    .dataframe tbody tr th {\n",
              "        vertical-align: top;\n",
              "    }\n",
              "\n",
              "    .dataframe thead th {\n",
              "        text-align: right;\n",
              "    }\n",
              "</style>\n",
              "<table border=\"1\" class=\"dataframe\">\n",
              "  <thead>\n",
              "    <tr style=\"text-align: right;\">\n",
              "      <th></th>\n",
              "      <th>ds</th>\n",
              "      <th>y</th>\n",
              "    </tr>\n",
              "  </thead>\n",
              "  <tbody>\n",
              "    <tr>\n",
              "      <th>0</th>\n",
              "      <td>2020-01-30</td>\n",
              "      <td>1</td>\n",
              "    </tr>\n",
              "    <tr>\n",
              "      <th>1</th>\n",
              "      <td>2020-01-31</td>\n",
              "      <td>1</td>\n",
              "    </tr>\n",
              "  </tbody>\n",
              "</table>\n",
              "</div>"
            ],
            "text/plain": [
              "          ds  y\n",
              "0 2020-01-30  1\n",
              "1 2020-01-31  1"
            ]
          },
          "metadata": {
            "tags": []
          },
          "execution_count": 25
        }
      ]
    },
    {
      "cell_type": "code",
      "metadata": {
        "id": "hD_JVioCPd0e",
        "colab_type": "code",
        "colab": {
          "base_uri": "https://localhost:8080/",
          "height": 90
        },
        "outputId": "f0c619f2-b1ed-4fea-f477-ff465f9abcff"
      },
      "source": [
        "prophet_basic.fit(input)"
      ],
      "execution_count": 26,
      "outputs": [
        {
          "output_type": "stream",
          "text": [
            "INFO:numexpr.utils:NumExpr defaulting to 2 threads.\n",
            "INFO:fbprophet:Disabling yearly seasonality. Run prophet with yearly_seasonality=True to override this.\n",
            "INFO:fbprophet:Disabling daily seasonality. Run prophet with daily_seasonality=True to override this.\n"
          ],
          "name": "stderr"
        },
        {
          "output_type": "execute_result",
          "data": {
            "text/plain": [
              "<fbprophet.forecaster.Prophet at 0x7f14de8d1cc0>"
            ]
          },
          "metadata": {
            "tags": []
          },
          "execution_count": 26
        }
      ]
    },
    {
      "cell_type": "code",
      "metadata": {
        "id": "mw-ZpLdtHs8l",
        "colab_type": "code",
        "colab": {
          "base_uri": "https://localhost:8080/",
          "height": 424
        },
        "outputId": "bb244909-819f-45f2-8350-c0b3ab74c541"
      },
      "source": [
        "input"
      ],
      "execution_count": 27,
      "outputs": [
        {
          "output_type": "execute_result",
          "data": {
            "text/html": [
              "<div>\n",
              "<style scoped>\n",
              "    .dataframe tbody tr th:only-of-type {\n",
              "        vertical-align: middle;\n",
              "    }\n",
              "\n",
              "    .dataframe tbody tr th {\n",
              "        vertical-align: top;\n",
              "    }\n",
              "\n",
              "    .dataframe thead th {\n",
              "        text-align: right;\n",
              "    }\n",
              "</style>\n",
              "<table border=\"1\" class=\"dataframe\">\n",
              "  <thead>\n",
              "    <tr style=\"text-align: right;\">\n",
              "      <th></th>\n",
              "      <th>ds</th>\n",
              "      <th>y</th>\n",
              "    </tr>\n",
              "  </thead>\n",
              "  <tbody>\n",
              "    <tr>\n",
              "      <th>0</th>\n",
              "      <td>2020-01-30</td>\n",
              "      <td>1</td>\n",
              "    </tr>\n",
              "    <tr>\n",
              "      <th>1</th>\n",
              "      <td>2020-01-31</td>\n",
              "      <td>1</td>\n",
              "    </tr>\n",
              "    <tr>\n",
              "      <th>2</th>\n",
              "      <td>2020-02-01</td>\n",
              "      <td>2</td>\n",
              "    </tr>\n",
              "    <tr>\n",
              "      <th>3</th>\n",
              "      <td>2020-02-02</td>\n",
              "      <td>3</td>\n",
              "    </tr>\n",
              "    <tr>\n",
              "      <th>4</th>\n",
              "      <td>2020-02-03</td>\n",
              "      <td>3</td>\n",
              "    </tr>\n",
              "    <tr>\n",
              "      <th>...</th>\n",
              "      <td>...</td>\n",
              "      <td>...</td>\n",
              "    </tr>\n",
              "    <tr>\n",
              "      <th>147</th>\n",
              "      <td>2020-06-25</td>\n",
              "      <td>464612</td>\n",
              "    </tr>\n",
              "    <tr>\n",
              "      <th>148</th>\n",
              "      <td>2020-06-27</td>\n",
              "      <td>500930</td>\n",
              "    </tr>\n",
              "    <tr>\n",
              "      <th>149</th>\n",
              "      <td>2020-06-28</td>\n",
              "      <td>521020</td>\n",
              "    </tr>\n",
              "    <tr>\n",
              "      <th>150</th>\n",
              "      <td>2020-06-29</td>\n",
              "      <td>541033</td>\n",
              "    </tr>\n",
              "    <tr>\n",
              "      <th>151</th>\n",
              "      <td>2020-06-30</td>\n",
              "      <td>559836</td>\n",
              "    </tr>\n",
              "  </tbody>\n",
              "</table>\n",
              "<p>152 rows × 2 columns</p>\n",
              "</div>"
            ],
            "text/plain": [
              "            ds       y\n",
              "0   2020-01-30       1\n",
              "1   2020-01-31       1\n",
              "2   2020-02-01       2\n",
              "3   2020-02-02       3\n",
              "4   2020-02-03       3\n",
              "..         ...     ...\n",
              "147 2020-06-25  464612\n",
              "148 2020-06-27  500930\n",
              "149 2020-06-28  521020\n",
              "150 2020-06-29  541033\n",
              "151 2020-06-30  559836\n",
              "\n",
              "[152 rows x 2 columns]"
            ]
          },
          "metadata": {
            "tags": []
          },
          "execution_count": 27
        }
      ]
    },
    {
      "cell_type": "code",
      "metadata": {
        "id": "1RR6ciPcPhW-",
        "colab_type": "code",
        "colab": {
          "base_uri": "https://localhost:8080/",
          "height": 112
        },
        "outputId": "4deeffa9-7030-49cb-9953-daa0b69ed49b"
      },
      "source": [
        "future= prophet_basic.make_future_dataframe(periods=10)\n",
        "future.tail(2)"
      ],
      "execution_count": 28,
      "outputs": [
        {
          "output_type": "execute_result",
          "data": {
            "text/html": [
              "<div>\n",
              "<style scoped>\n",
              "    .dataframe tbody tr th:only-of-type {\n",
              "        vertical-align: middle;\n",
              "    }\n",
              "\n",
              "    .dataframe tbody tr th {\n",
              "        vertical-align: top;\n",
              "    }\n",
              "\n",
              "    .dataframe thead th {\n",
              "        text-align: right;\n",
              "    }\n",
              "</style>\n",
              "<table border=\"1\" class=\"dataframe\">\n",
              "  <thead>\n",
              "    <tr style=\"text-align: right;\">\n",
              "      <th></th>\n",
              "      <th>ds</th>\n",
              "    </tr>\n",
              "  </thead>\n",
              "  <tbody>\n",
              "    <tr>\n",
              "      <th>160</th>\n",
              "      <td>2020-07-09</td>\n",
              "    </tr>\n",
              "    <tr>\n",
              "      <th>161</th>\n",
              "      <td>2020-07-10</td>\n",
              "    </tr>\n",
              "  </tbody>\n",
              "</table>\n",
              "</div>"
            ],
            "text/plain": [
              "            ds\n",
              "160 2020-07-09\n",
              "161 2020-07-10"
            ]
          },
          "metadata": {
            "tags": []
          },
          "execution_count": 28
        }
      ]
    },
    {
      "cell_type": "code",
      "metadata": {
        "id": "V5KK4L3ePquj",
        "colab_type": "code",
        "colab": {}
      },
      "source": [
        "forecast=prophet_basic.predict(future)"
      ],
      "execution_count": 29,
      "outputs": []
    },
    {
      "cell_type": "code",
      "metadata": {
        "id": "uYZdP7swPuhE",
        "colab_type": "code",
        "colab": {
          "base_uri": "https://localhost:8080/",
          "height": 441
        },
        "outputId": "87371efa-3b0b-41e2-f370-56fd086757f5"
      },
      "source": [
        "from fbprophet.plot import plot_plotly\n",
        "fig1 =prophet_basic.plot(forecast)"
      ],
      "execution_count": 30,
      "outputs": [
        {
          "output_type": "display_data",
          "data": {
            "image/png": "[encoded data removed]",
            "text/plain": [
              "<Figure size 720x432 with 1 Axes>"
            ]
          },
          "metadata": {
            "tags": []
          }
        }
      ]
    },
    {
      "cell_type": "code",
      "metadata": {
        "id": "PfNxUyxRQGVU",
        "colab_type": "code",
        "colab": {}
      },
      "source": [
        "predictions=forecast.tail(10)"
      ],
      "execution_count": 31,
      "outputs": []
    },
    {
      "cell_type": "code",
      "metadata": {
        "id": "Dty5qhxKSx3Y",
        "colab_type": "code",
        "colab": {
          "base_uri": "https://localhost:8080/",
          "height": 226
        },
        "outputId": "71c8e082-286f-4c75-c19b-0febe75675be"
      },
      "source": [
        "predictions.round(0).head(5)"
      ],
      "execution_count": 32,
      "outputs": [
        {
          "output_type": "execute_result",
          "data": {
            "text/html": [
              "<div>\n",
              "<style scoped>\n",
              "    .dataframe tbody tr th:only-of-type {\n",
              "        vertical-align: middle;\n",
              "    }\n",
              "\n",
              "    .dataframe tbody tr th {\n",
              "        vertical-align: top;\n",
              "    }\n",
              "\n",
              "    .dataframe thead th {\n",
              "        text-align: right;\n",
              "    }\n",
              "</style>\n",
              "<table border=\"1\" class=\"dataframe\">\n",
              "  <thead>\n",
              "    <tr style=\"text-align: right;\">\n",
              "      <th></th>\n",
              "      <th>ds</th>\n",
              "      <th>trend</th>\n",
              "      <th>yhat_lower</th>\n",
              "      <th>yhat_upper</th>\n",
              "      <th>trend_lower</th>\n",
              "      <th>trend_upper</th>\n",
              "      <th>additive_terms</th>\n",
              "      <th>additive_terms_lower</th>\n",
              "      <th>additive_terms_upper</th>\n",
              "      <th>weekly</th>\n",
              "      <th>weekly_lower</th>\n",
              "      <th>weekly_upper</th>\n",
              "      <th>multiplicative_terms</th>\n",
              "      <th>multiplicative_terms_lower</th>\n",
              "      <th>multiplicative_terms_upper</th>\n",
              "      <th>yhat</th>\n",
              "    </tr>\n",
              "  </thead>\n",
              "  <tbody>\n",
              "    <tr>\n",
              "      <th>152</th>\n",
              "      <td>2020-07-01</td>\n",
              "      <td>527270.0</td>\n",
              "      <td>516271.0</td>\n",
              "      <td>536632.0</td>\n",
              "      <td>527270.0</td>\n",
              "      <td>527270.0</td>\n",
              "      <td>-920.0</td>\n",
              "      <td>-920.0</td>\n",
              "      <td>-920.0</td>\n",
              "      <td>-920.0</td>\n",
              "      <td>-920.0</td>\n",
              "      <td>-920.0</td>\n",
              "      <td>0.0</td>\n",
              "      <td>0.0</td>\n",
              "      <td>0.0</td>\n",
              "      <td>526349.0</td>\n",
              "    </tr>\n",
              "    <tr>\n",
              "      <th>153</th>\n",
              "      <td>2020-07-02</td>\n",
              "      <td>538915.0</td>\n",
              "      <td>528379.0</td>\n",
              "      <td>548217.0</td>\n",
              "      <td>538745.0</td>\n",
              "      <td>538956.0</td>\n",
              "      <td>-681.0</td>\n",
              "      <td>-681.0</td>\n",
              "      <td>-681.0</td>\n",
              "      <td>-681.0</td>\n",
              "      <td>-681.0</td>\n",
              "      <td>-681.0</td>\n",
              "      <td>0.0</td>\n",
              "      <td>0.0</td>\n",
              "      <td>0.0</td>\n",
              "      <td>538234.0</td>\n",
              "    </tr>\n",
              "    <tr>\n",
              "      <th>154</th>\n",
              "      <td>2020-07-03</td>\n",
              "      <td>550560.0</td>\n",
              "      <td>538917.0</td>\n",
              "      <td>559803.0</td>\n",
              "      <td>550030.0</td>\n",
              "      <td>550914.0</td>\n",
              "      <td>-906.0</td>\n",
              "      <td>-906.0</td>\n",
              "      <td>-906.0</td>\n",
              "      <td>-906.0</td>\n",
              "      <td>-906.0</td>\n",
              "      <td>-906.0</td>\n",
              "      <td>0.0</td>\n",
              "      <td>0.0</td>\n",
              "      <td>0.0</td>\n",
              "      <td>549654.0</td>\n",
              "    </tr>\n",
              "    <tr>\n",
              "      <th>155</th>\n",
              "      <td>2020-07-04</td>\n",
              "      <td>562205.0</td>\n",
              "      <td>552075.0</td>\n",
              "      <td>572360.0</td>\n",
              "      <td>561253.0</td>\n",
              "      <td>562893.0</td>\n",
              "      <td>-69.0</td>\n",
              "      <td>-69.0</td>\n",
              "      <td>-69.0</td>\n",
              "      <td>-69.0</td>\n",
              "      <td>-69.0</td>\n",
              "      <td>-69.0</td>\n",
              "      <td>0.0</td>\n",
              "      <td>0.0</td>\n",
              "      <td>0.0</td>\n",
              "      <td>562136.0</td>\n",
              "    </tr>\n",
              "    <tr>\n",
              "      <th>156</th>\n",
              "      <td>2020-07-05</td>\n",
              "      <td>573850.0</td>\n",
              "      <td>564433.0</td>\n",
              "      <td>584391.0</td>\n",
              "      <td>572420.0</td>\n",
              "      <td>574991.0</td>\n",
              "      <td>402.0</td>\n",
              "      <td>402.0</td>\n",
              "      <td>402.0</td>\n",
              "      <td>402.0</td>\n",
              "      <td>402.0</td>\n",
              "      <td>402.0</td>\n",
              "      <td>0.0</td>\n",
              "      <td>0.0</td>\n",
              "      <td>0.0</td>\n",
              "      <td>574252.0</td>\n",
              "    </tr>\n",
              "  </tbody>\n",
              "</table>\n",
              "</div>"
            ],
            "text/plain": [
              "            ds     trend  ...  multiplicative_terms_upper      yhat\n",
              "152 2020-07-01  527270.0  ...                         0.0  526349.0\n",
              "153 2020-07-02  538915.0  ...                         0.0  538234.0\n",
              "154 2020-07-03  550560.0  ...                         0.0  549654.0\n",
              "155 2020-07-04  562205.0  ...                         0.0  562136.0\n",
              "156 2020-07-05  573850.0  ...                         0.0  574252.0\n",
              "\n",
              "[5 rows x 16 columns]"
            ]
          },
          "metadata": {
            "tags": []
          },
          "execution_count": 32
        }
      ]
    },
    {
      "cell_type": "code",
      "metadata": {
        "id": "L03H1BL8Gx8i",
        "colab_type": "code",
        "colab": {
          "base_uri": "https://localhost:8080/",
          "height": 161
        },
        "outputId": "a6cf4bdf-6d68-4eb0-84a4-7e0aa1101242"
      },
      "source": [
        "from fbprophet.diagnostics import performance_metrics\n",
        "from fbprophet.diagnostics import cross_validation\n",
        "df_cv = cross_validation(prophet_basic, initial='70 days', period='40 days', horizon = '3 days')\n",
        "df_cv.head()\n",
        "df_p = performance_metrics(df_cv)\n",
        "df_p.head()"
      ],
      "execution_count": 33,
      "outputs": [
        {
          "output_type": "stream",
          "text": [
            "INFO:fbprophet:Making 2 forecasts with cutoffs between 2020-05-18 00:00:00 and 2020-06-27 00:00:00\n"
          ],
          "name": "stderr"
        },
        {
          "output_type": "execute_result",
          "data": {
            "text/html": [
              "<div>\n",
              "<style scoped>\n",
              "    .dataframe tbody tr th:only-of-type {\n",
              "        vertical-align: middle;\n",
              "    }\n",
              "\n",
              "    .dataframe tbody tr th {\n",
              "        vertical-align: top;\n",
              "    }\n",
              "\n",
              "    .dataframe thead th {\n",
              "        text-align: right;\n",
              "    }\n",
              "</style>\n",
              "<table border=\"1\" class=\"dataframe\">\n",
              "  <thead>\n",
              "    <tr style=\"text-align: right;\">\n",
              "      <th></th>\n",
              "      <th>horizon</th>\n",
              "      <th>mse</th>\n",
              "      <th>rmse</th>\n",
              "      <th>mae</th>\n",
              "      <th>mape</th>\n",
              "      <th>mdape</th>\n",
              "      <th>coverage</th>\n",
              "    </tr>\n",
              "  </thead>\n",
              "  <tbody>\n",
              "    <tr>\n",
              "      <th>0</th>\n",
              "      <td>1 days</td>\n",
              "      <td>1.191418e+09</td>\n",
              "      <td>34516.923368</td>\n",
              "      <td>28298.800414</td>\n",
              "      <td>0.088662</td>\n",
              "      <td>0.088662</td>\n",
              "      <td>0.0</td>\n",
              "    </tr>\n",
              "    <tr>\n",
              "      <th>1</th>\n",
              "      <td>2 days</td>\n",
              "      <td>1.686173e+09</td>\n",
              "      <td>41063.037718</td>\n",
              "      <td>33959.711688</td>\n",
              "      <td>0.104183</td>\n",
              "      <td>0.104183</td>\n",
              "      <td>0.0</td>\n",
              "    </tr>\n",
              "    <tr>\n",
              "      <th>2</th>\n",
              "      <td>3 days</td>\n",
              "      <td>2.204492e+09</td>\n",
              "      <td>46952.021017</td>\n",
              "      <td>39115.629376</td>\n",
              "      <td>0.117366</td>\n",
              "      <td>0.117366</td>\n",
              "      <td>0.0</td>\n",
              "    </tr>\n",
              "  </tbody>\n",
              "</table>\n",
              "</div>"
            ],
            "text/plain": [
              "  horizon           mse          rmse  ...      mape     mdape  coverage\n",
              "0  1 days  1.191418e+09  34516.923368  ...  0.088662  0.088662       0.0\n",
              "1  2 days  1.686173e+09  41063.037718  ...  0.104183  0.104183       0.0\n",
              "2  3 days  2.204492e+09  46952.021017  ...  0.117366  0.117366       0.0\n",
              "\n",
              "[3 rows x 7 columns]"
            ]
          },
          "metadata": {
            "tags": []
          },
          "execution_count": 33
        }
      ]
    },
    {
      "cell_type": "markdown",
      "metadata": {
        "id": "-9mWAp4DS8Ts",
        "colab_type": "text"
      },
      "source": [
        "**Prediction usingusing ARIMA**"
      ]
    },
    {
      "cell_type": "code",
      "metadata": {
        "id": "13NaZjkpQaTX",
        "colab_type": "code",
        "colab": {
          "base_uri": "https://localhost:8080/",
          "height": 424
        },
        "outputId": "544497e5-40f7-49d5-a256-ae435f69445a"
      },
      "source": [
        "input"
      ],
      "execution_count": 34,
      "outputs": [
        {
          "output_type": "execute_result",
          "data": {
            "text/html": [
              "<div>\n",
              "<style scoped>\n",
              "    .dataframe tbody tr th:only-of-type {\n",
              "        vertical-align: middle;\n",
              "    }\n",
              "\n",
              "    .dataframe tbody tr th {\n",
              "        vertical-align: top;\n",
              "    }\n",
              "\n",
              "    .dataframe thead th {\n",
              "        text-align: right;\n",
              "    }\n",
              "</style>\n",
              "<table border=\"1\" class=\"dataframe\">\n",
              "  <thead>\n",
              "    <tr style=\"text-align: right;\">\n",
              "      <th></th>\n",
              "      <th>ds</th>\n",
              "      <th>y</th>\n",
              "    </tr>\n",
              "  </thead>\n",
              "  <tbody>\n",
              "    <tr>\n",
              "      <th>0</th>\n",
              "      <td>2020-01-30</td>\n",
              "      <td>1</td>\n",
              "    </tr>\n",
              "    <tr>\n",
              "      <th>1</th>\n",
              "      <td>2020-01-31</td>\n",
              "      <td>1</td>\n",
              "    </tr>\n",
              "    <tr>\n",
              "      <th>2</th>\n",
              "      <td>2020-02-01</td>\n",
              "      <td>2</td>\n",
              "    </tr>\n",
              "    <tr>\n",
              "      <th>3</th>\n",
              "      <td>2020-02-02</td>\n",
              "      <td>3</td>\n",
              "    </tr>\n",
              "    <tr>\n",
              "      <th>4</th>\n",
              "      <td>2020-02-03</td>\n",
              "      <td>3</td>\n",
              "    </tr>\n",
              "    <tr>\n",
              "      <th>...</th>\n",
              "      <td>...</td>\n",
              "      <td>...</td>\n",
              "    </tr>\n",
              "    <tr>\n",
              "      <th>147</th>\n",
              "      <td>2020-06-25</td>\n",
              "      <td>464612</td>\n",
              "    </tr>\n",
              "    <tr>\n",
              "      <th>148</th>\n",
              "      <td>2020-06-27</td>\n",
              "      <td>500930</td>\n",
              "    </tr>\n",
              "    <tr>\n",
              "      <th>149</th>\n",
              "      <td>2020-06-28</td>\n",
              "      <td>521020</td>\n",
              "    </tr>\n",
              "    <tr>\n",
              "      <th>150</th>\n",
              "      <td>2020-06-29</td>\n",
              "      <td>541033</td>\n",
              "    </tr>\n",
              "    <tr>\n",
              "      <th>151</th>\n",
              "      <td>2020-06-30</td>\n",
              "      <td>559836</td>\n",
              "    </tr>\n",
              "  </tbody>\n",
              "</table>\n",
              "<p>152 rows × 2 columns</p>\n",
              "</div>"
            ],
            "text/plain": [
              "            ds       y\n",
              "0   2020-01-30       1\n",
              "1   2020-01-31       1\n",
              "2   2020-02-01       2\n",
              "3   2020-02-02       3\n",
              "4   2020-02-03       3\n",
              "..         ...     ...\n",
              "147 2020-06-25  464612\n",
              "148 2020-06-27  500930\n",
              "149 2020-06-28  521020\n",
              "150 2020-06-29  541033\n",
              "151 2020-06-30  559836\n",
              "\n",
              "[152 rows x 2 columns]"
            ]
          },
          "metadata": {
            "tags": []
          },
          "execution_count": 34
        }
      ]
    },
    {
      "cell_type": "code",
      "metadata": {
        "id": "QQEUULZHHKtq",
        "colab_type": "code",
        "colab": {
          "base_uri": "https://localhost:8080/",
          "height": 677
        },
        "outputId": "8890d687-2ef6-457b-ce4a-6c19b55612bb"
      },
      "source": [
        "from statsmodels.tsa.arima_model import ARIMA\n",
        "import datetime\n",
        "arima = ARIMA(input['y'], order=(3, 1, 0))\n",
        "arima = arima.fit(trend='nc', full_output=True, disp=True)\n",
        "forecast = arima.forecast(steps= 10)\n",
        "pred = list(forecast[0])\n",
        "start_date = input['ds'].max()\n",
        "prediction_dates = []\n",
        "for i in range(10):\n",
        "    date = start_date + datetime.timedelta(days=1)\n",
        "    prediction_dates.append(date)\n",
        "    start_date = date\n",
        "\n",
        "#all bellow stuff related to drawing graph   \n",
        "plt.figure(figsize= (20,10))\n",
        "plt.xlabel(\"Dates\",fontsize = 10)\n",
        "plt.ylabel('Total cases',fontsize = 10)\n",
        "plt.title(\"Predicted Values for the next 10 Days\" , fontsize = 20)\n",
        "\n",
        "plt.plot_date(y= pred,x= prediction_dates,linestyle ='dashed',color = 'blue',label = 'Predicted')\n",
        "plt.plot_date(y=input['y'].tail(15),x=input['ds'].tail(15),linestyle = '-',color = 'orange',label = 'Actual')"
      ],
      "execution_count": 35,
      "outputs": [
        {
          "output_type": "stream",
          "text": [
            "/usr/local/lib/python3.6/dist-packages/statsmodels/tools/_testing.py:19: FutureWarning:\n",
            "\n",
            "pandas.util.testing is deprecated. Use the functions in the public API at pandas.testing instead.\n",
            "\n"
          ],
          "name": "stderr"
        },
        {
          "output_type": "execute_result",
          "data": {
            "text/plain": [
              "[<matplotlib.lines.Line2D at 0x7f14cf93bf60>]"
            ]
          },
          "metadata": {
            "tags": []
          },
          "execution_count": 35
        },
        {
          "output_type": "display_data",
          "data": {
            "image/png": "[encoded data removed]",
            "text/plain": [
              "<Figure size 1440x720 with 1 Axes>"
            ]
          },
          "metadata": {
            "tags": [],
            "needs_background": "light"
          }
        }
      ]
    },
    {
      "cell_type": "code",
      "metadata": {
        "id": "pQ2-WvTCJKcS",
        "colab_type": "code",
        "colab": {
          "base_uri": "https://localhost:8080/",
          "height": 363
        },
        "outputId": "31a89be6-dfac-4b35-c43a-e26a7dea6d69"
      },
      "source": [
        "pred=pd.DataFrame(forecast[0],columns=['Predicted'])\n",
        "dates=pd.DataFrame(prediction_dates,columns=['Date'])\n",
        "arima_df=pd.merge(dates,pred,right_index=True,left_index=True)\n",
        "arima_df.tail(30)"
      ],
      "execution_count": 36,
      "outputs": [
        {
          "output_type": "execute_result",
          "data": {
            "text/html": [
              "<div>\n",
              "<style scoped>\n",
              "    .dataframe tbody tr th:only-of-type {\n",
              "        vertical-align: middle;\n",
              "    }\n",
              "\n",
              "    .dataframe tbody tr th {\n",
              "        vertical-align: top;\n",
              "    }\n",
              "\n",
              "    .dataframe thead th {\n",
              "        text-align: right;\n",
              "    }\n",
              "</style>\n",
              "<table border=\"1\" class=\"dataframe\">\n",
              "  <thead>\n",
              "    <tr style=\"text-align: right;\">\n",
              "      <th></th>\n",
              "      <th>Date</th>\n",
              "      <th>Predicted</th>\n",
              "    </tr>\n",
              "  </thead>\n",
              "  <tbody>\n",
              "    <tr>\n",
              "      <th>0</th>\n",
              "      <td>2020-07-01</td>\n",
              "      <td>579124.049202</td>\n",
              "    </tr>\n",
              "    <tr>\n",
              "      <th>1</th>\n",
              "      <td>2020-07-02</td>\n",
              "      <td>598231.593492</td>\n",
              "    </tr>\n",
              "    <tr>\n",
              "      <th>2</th>\n",
              "      <td>2020-07-03</td>\n",
              "      <td>617179.415582</td>\n",
              "    </tr>\n",
              "    <tr>\n",
              "      <th>3</th>\n",
              "      <td>2020-07-04</td>\n",
              "      <td>636086.084522</td>\n",
              "    </tr>\n",
              "    <tr>\n",
              "      <th>4</th>\n",
              "      <td>2020-07-05</td>\n",
              "      <td>654886.432598</td>\n",
              "    </tr>\n",
              "    <tr>\n",
              "      <th>5</th>\n",
              "      <td>2020-07-06</td>\n",
              "      <td>673592.354674</td>\n",
              "    </tr>\n",
              "    <tr>\n",
              "      <th>6</th>\n",
              "      <td>2020-07-07</td>\n",
              "      <td>692211.005027</td>\n",
              "    </tr>\n",
              "    <tr>\n",
              "      <th>7</th>\n",
              "      <td>2020-07-08</td>\n",
              "      <td>710737.115189</td>\n",
              "    </tr>\n",
              "    <tr>\n",
              "      <th>8</th>\n",
              "      <td>2020-07-09</td>\n",
              "      <td>729172.817712</td>\n",
              "    </tr>\n",
              "    <tr>\n",
              "      <th>9</th>\n",
              "      <td>2020-07-10</td>\n",
              "      <td>747518.776944</td>\n",
              "    </tr>\n",
              "  </tbody>\n",
              "</table>\n",
              "</div>"
            ],
            "text/plain": [
              "        Date      Predicted\n",
              "0 2020-07-01  579124.049202\n",
              "1 2020-07-02  598231.593492\n",
              "2 2020-07-03  617179.415582\n",
              "3 2020-07-04  636086.084522\n",
              "4 2020-07-05  654886.432598\n",
              "5 2020-07-06  673592.354674\n",
              "6 2020-07-07  692211.005027\n",
              "7 2020-07-08  710737.115189\n",
              "8 2020-07-09  729172.817712\n",
              "9 2020-07-10  747518.776944"
            ]
          },
          "metadata": {
            "tags": []
          },
          "execution_count": 36
        }
      ]
    },
    {
      "cell_type": "code",
      "metadata": {
        "id": "r_YHaW1DU8Nl",
        "colab_type": "code",
        "colab": {}
      },
      "source": [
        ""
      ],
      "execution_count": 36,
      "outputs": []
    },
    {
      "cell_type": "markdown",
      "metadata": {
        "id": "ZRCbAilKU9L6",
        "colab_type": "text"
      },
      "source": [
        "**using LSTM deep learning**"
      ]
    },
    {
      "cell_type": "code",
      "metadata": {
        "id": "QJbCiiETVEP7",
        "colab_type": "code",
        "colab": {
          "base_uri": "https://localhost:8080/",
          "height": 424
        },
        "outputId": "3892fd02-69da-4a54-b56f-e5adff6a536c"
      },
      "source": [
        "input"
      ],
      "execution_count": 37,
      "outputs": [
        {
          "output_type": "execute_result",
          "data": {
            "text/html": [
              "<div>\n",
              "<style scoped>\n",
              "    .dataframe tbody tr th:only-of-type {\n",
              "        vertical-align: middle;\n",
              "    }\n",
              "\n",
              "    .dataframe tbody tr th {\n",
              "        vertical-align: top;\n",
              "    }\n",
              "\n",
              "    .dataframe thead th {\n",
              "        text-align: right;\n",
              "    }\n",
              "</style>\n",
              "<table border=\"1\" class=\"dataframe\">\n",
              "  <thead>\n",
              "    <tr style=\"text-align: right;\">\n",
              "      <th></th>\n",
              "      <th>ds</th>\n",
              "      <th>y</th>\n",
              "    </tr>\n",
              "  </thead>\n",
              "  <tbody>\n",
              "    <tr>\n",
              "      <th>0</th>\n",
              "      <td>2020-01-30</td>\n",
              "      <td>1</td>\n",
              "    </tr>\n",
              "    <tr>\n",
              "      <th>1</th>\n",
              "      <td>2020-01-31</td>\n",
              "      <td>1</td>\n",
              "    </tr>\n",
              "    <tr>\n",
              "      <th>2</th>\n",
              "      <td>2020-02-01</td>\n",
              "      <td>2</td>\n",
              "    </tr>\n",
              "    <tr>\n",
              "      <th>3</th>\n",
              "      <td>2020-02-02</td>\n",
              "      <td>3</td>\n",
              "    </tr>\n",
              "    <tr>\n",
              "      <th>4</th>\n",
              "      <td>2020-02-03</td>\n",
              "      <td>3</td>\n",
              "    </tr>\n",
              "    <tr>\n",
              "      <th>...</th>\n",
              "      <td>...</td>\n",
              "      <td>...</td>\n",
              "    </tr>\n",
              "    <tr>\n",
              "      <th>147</th>\n",
              "      <td>2020-06-25</td>\n",
              "      <td>464612</td>\n",
              "    </tr>\n",
              "    <tr>\n",
              "      <th>148</th>\n",
              "      <td>2020-06-27</td>\n",
              "      <td>500930</td>\n",
              "    </tr>\n",
              "    <tr>\n",
              "      <th>149</th>\n",
              "      <td>2020-06-28</td>\n",
              "      <td>521020</td>\n",
              "    </tr>\n",
              "    <tr>\n",
              "      <th>150</th>\n",
              "      <td>2020-06-29</td>\n",
              "      <td>541033</td>\n",
              "    </tr>\n",
              "    <tr>\n",
              "      <th>151</th>\n",
              "      <td>2020-06-30</td>\n",
              "      <td>559836</td>\n",
              "    </tr>\n",
              "  </tbody>\n",
              "</table>\n",
              "<p>152 rows × 2 columns</p>\n",
              "</div>"
            ],
            "text/plain": [
              "            ds       y\n",
              "0   2020-01-30       1\n",
              "1   2020-01-31       1\n",
              "2   2020-02-01       2\n",
              "3   2020-02-02       3\n",
              "4   2020-02-03       3\n",
              "..         ...     ...\n",
              "147 2020-06-25  464612\n",
              "148 2020-06-27  500930\n",
              "149 2020-06-28  521020\n",
              "150 2020-06-29  541033\n",
              "151 2020-06-30  559836\n",
              "\n",
              "[152 rows x 2 columns]"
            ]
          },
          "metadata": {
            "tags": []
          },
          "execution_count": 37
        }
      ]
    },
    {
      "cell_type": "code",
      "metadata": {
        "id": "y0AB_DF7VIhj",
        "colab_type": "code",
        "colab": {}
      },
      "source": [
        "df1 = input['y']"
      ],
      "execution_count": 38,
      "outputs": []
    },
    {
      "cell_type": "code",
      "metadata": {
        "id": "wgsMDFYDY11a",
        "colab_type": "code",
        "colab": {
          "base_uri": "https://localhost:8080/",
          "height": 235
        },
        "outputId": "88ca7cde-b55f-454c-f0a8-87ff8510146d"
      },
      "source": [
        "df1"
      ],
      "execution_count": 39,
      "outputs": [
        {
          "output_type": "execute_result",
          "data": {
            "text/plain": [
              "0           1\n",
              "1           1\n",
              "2           2\n",
              "3           3\n",
              "4           3\n",
              "        ...  \n",
              "147    464612\n",
              "148    500930\n",
              "149    521020\n",
              "150    541033\n",
              "151    559836\n",
              "Name: y, Length: 152, dtype: int64"
            ]
          },
          "metadata": {
            "tags": []
          },
          "execution_count": 39
        }
      ]
    },
    {
      "cell_type": "code",
      "metadata": {
        "id": "lzATUKucYoI7",
        "colab_type": "code",
        "colab": {}
      },
      "source": [
        "#df1 = df.iloc[100:150]         #################################################   not this issue may be"
      ],
      "execution_count": 40,
      "outputs": []
    },
    {
      "cell_type": "code",
      "metadata": {
        "id": "yPWCBkJlZR0X",
        "colab_type": "code",
        "colab": {}
      },
      "source": [
        "#df1.reset_index(drop=True, inplace=True)"
      ],
      "execution_count": 41,
      "outputs": []
    },
    {
      "cell_type": "code",
      "metadata": {
        "id": "xwMjYzcPVUQh",
        "colab_type": "code",
        "colab": {
          "base_uri": "https://localhost:8080/",
          "height": 284
        },
        "outputId": "fea25052-9239-4777-a30f-73b09a364bfd"
      },
      "source": [
        "import matplotlib.pyplot as plt\n",
        "plt.figure(figsize=(20,4))   \n",
        "plt.ylabel('number of cases') \n",
        "plt.xlabel('Days')         \n",
        "plt.plot(df1)\n",
        "#https://matplotlib.org/3.2.2/api/_as_gen/matplotlib.pyplot.plot.html"
      ],
      "execution_count": 65,
      "outputs": [
        {
          "output_type": "execute_result",
          "data": {
            "text/plain": [
              "[<matplotlib.lines.Line2D at 0x7f1481478fd0>]"
            ]
          },
          "metadata": {
            "tags": []
          },
          "execution_count": 65
        },
        {
          "output_type": "display_data",
          "data": {
            "image/png": "[encoded data removed]",
            "text/plain": [
              "<Figure size 1440x288 with 1 Axes>"
            ]
          },
          "metadata": {
            "tags": [],
            "needs_background": "light"
          }
        }
      ]
    },
    {
      "cell_type": "code",
      "metadata": {
        "id": "g3wH79ygXvq7",
        "colab_type": "code",
        "colab": {}
      },
      "source": [
        "from sklearn.preprocessing import MinMaxScaler\n",
        "scaler=MinMaxScaler()\n",
        "df1=scaler.fit_transform(np.array(df1).reshape(-1,1))"
      ],
      "execution_count": 43,
      "outputs": []
    },
    {
      "cell_type": "code",
      "metadata": {
        "id": "VKgB1ZtMVhgK",
        "colab_type": "code",
        "colab": {}
      },
      "source": [
        "##splitting dataset into train and test split\n",
        "training_size=int(len(df1)*0.65)\n",
        "test_size=len(df1)-training_size\n",
        "train_data,test_data=df1[0:training_size,:],df1[training_size:len(df1),:1]"
      ],
      "execution_count": 44,
      "outputs": []
    },
    {
      "cell_type": "code",
      "metadata": {
        "id": "s9VM4xvyWNny",
        "colab_type": "code",
        "colab": {
          "base_uri": "https://localhost:8080/",
          "height": 35
        },
        "outputId": "cf243ff2-4a85-4112-ce03-05cf953bf821"
      },
      "source": [
        "training_size,test_size"
      ],
      "execution_count": 45,
      "outputs": [
        {
          "output_type": "execute_result",
          "data": {
            "text/plain": [
              "(98, 54)"
            ]
          },
          "metadata": {
            "tags": []
          },
          "execution_count": 45
        }
      ]
    },
    {
      "cell_type": "code",
      "metadata": {
        "id": "qPyxgsi8V4-r",
        "colab_type": "code",
        "colab": {
          "base_uri": "https://localhost:8080/",
          "height": 1000
        },
        "outputId": "0ef08fb7-70b4-4ac9-b598-1ff68130a753"
      },
      "source": [
        "train_data"
      ],
      "execution_count": 46,
      "outputs": [
        {
          "output_type": "execute_result",
          "data": {
            "text/plain": [
              "array([[0.00000000e+00],\n",
              "       [0.00000000e+00],\n",
              "       [1.78624059e-06],\n",
              "       [3.57248118e-06],\n",
              "       [3.57248118e-06],\n",
              "       [3.57248118e-06],\n",
              "       [3.57248118e-06],\n",
              "       [3.57248118e-06],\n",
              "       [3.57248118e-06],\n",
              "       [3.57248118e-06],\n",
              "       [3.57248118e-06],\n",
              "       [3.57248118e-06],\n",
              "       [3.57248118e-06],\n",
              "       [3.57248118e-06],\n",
              "       [3.57248118e-06],\n",
              "       [3.57248118e-06],\n",
              "       [3.57248118e-06],\n",
              "       [3.57248118e-06],\n",
              "       [3.57248118e-06],\n",
              "       [3.57248118e-06],\n",
              "       [3.57248118e-06],\n",
              "       [3.57248118e-06],\n",
              "       [3.57248118e-06],\n",
              "       [3.57248118e-06],\n",
              "       [3.57248118e-06],\n",
              "       [3.57248118e-06],\n",
              "       [3.57248118e-06],\n",
              "       [3.57248118e-06],\n",
              "       [3.57248118e-06],\n",
              "       [3.57248118e-06],\n",
              "       [3.57248118e-06],\n",
              "       [3.57248118e-06],\n",
              "       [7.14496235e-06],\n",
              "       [7.14496235e-06],\n",
              "       [4.46560147e-05],\n",
              "       [4.82284959e-05],\n",
              "       [5.00147365e-05],\n",
              "       [5.53734583e-05],\n",
              "       [6.43046612e-05],\n",
              "       [7.68083453e-05],\n",
              "       [9.82432324e-05],\n",
              "       [1.19678119e-04],\n",
              "       [1.30395563e-04],\n",
              "       [1.32181804e-04],\n",
              "       [1.48257969e-04],\n",
              "       [1.96486465e-04],\n",
              "       [2.01845187e-04],\n",
              "       [2.42928720e-04],\n",
              "       [2.67936088e-04],\n",
              "       [3.07233381e-04],\n",
              "       [3.46530674e-04],\n",
              "       [5.03719846e-04],\n",
              "       [6.41260371e-04],\n",
              "       [7.71655934e-04],\n",
              "       [9.25272625e-04],\n",
              "       [1.08067556e-03],\n",
              "       [1.23786473e-03],\n",
              "       [1.29145195e-03],\n",
              "       [1.62190645e-03],\n",
              "       [1.74872954e-03],\n",
              "       [1.91127743e-03],\n",
              "       [2.42571472e-03],\n",
              "       [3.20808810e-03],\n",
              "       [3.44208561e-03],\n",
              "       [4.07620102e-03],\n",
              "       [5.19260139e-03],\n",
              "       [6.02498951e-03],\n",
              "       [7.26285423e-03],\n",
              "       [7.89518340e-03],\n",
              "       [9.27594738e-03],\n",
              "       [1.02405173e-02],\n",
              "       [1.14515884e-02],\n",
              "       [1.33003474e-02],\n",
              "       [1.49240401e-02],\n",
              "       [1.63458876e-02],\n",
              "       [1.92967571e-02],\n",
              "       [2.04310199e-02],\n",
              "       [2.21118722e-02],\n",
              "       [2.47108523e-02],\n",
              "       [2.56807809e-02],\n",
              "       [2.80636259e-02],\n",
              "       [3.08376575e-02],\n",
              "       [3.32240750e-02],\n",
              "       [3.56944457e-02],\n",
              "       [3.82112587e-02],\n",
              "       [4.12192878e-02],\n",
              "       [4.37718256e-02],\n",
              "       [4.74157564e-02],\n",
              "       [4.98200363e-02],\n",
              "       [5.25762055e-02],\n",
              "       [5.59647039e-02],\n",
              "       [5.90334652e-02],\n",
              "       [6.20736467e-02],\n",
              "       [6.63695553e-02],\n",
              "       [7.11906187e-02],\n",
              "       [7.59723847e-02],\n",
              "       [8.29387230e-02],\n",
              "       [8.82224227e-02]])"
            ]
          },
          "metadata": {
            "tags": []
          },
          "execution_count": 46
        }
      ]
    },
    {
      "cell_type": "code",
      "metadata": {
        "id": "jDS_2CCMacu6",
        "colab_type": "code",
        "colab": {}
      },
      "source": [
        ""
      ],
      "execution_count": 46,
      "outputs": []
    },
    {
      "cell_type": "code",
      "metadata": {
        "id": "ejs0zJBDVnc5",
        "colab_type": "code",
        "colab": {}
      },
      "source": [
        "import numpy\n",
        "# convert an array of values into a dataset matrix\n",
        "def create_dataset(dataset, time_step=1):\n",
        "\tdataX, dataY = [], []\n",
        "\tfor i in range(len(dataset)-time_step-1): # we have to exclude last 99 data***\n",
        "\t\ta = dataset[i:(i+time_step), 0]   ###i=0, 0,1,2,3-----99--->X   100---->Y \n",
        "\t\tdataX.append(a)\n",
        "\t\tdataY.append(dataset[i + time_step, 0])###??????????\n",
        "\treturn numpy.array(dataX), numpy.array(dataY)"
      ],
      "execution_count": 47,
      "outputs": []
    },
    {
      "cell_type": "code",
      "metadata": {
        "id": "EwAwNNvLVqmx",
        "colab_type": "code",
        "colab": {}
      },
      "source": [
        "# reshape into X=t,t+1,t+2,t+3 and Y=t+4\n",
        "time_step = 25\n",
        "X_train, y_train = create_dataset(train_data, time_step)\n",
        "X_test, ytest = create_dataset(test_data, time_step)"
      ],
      "execution_count": 48,
      "outputs": []
    },
    {
      "cell_type": "code",
      "metadata": {
        "id": "IPmVUVQLVtSb",
        "colab_type": "code",
        "colab": {
          "base_uri": "https://localhost:8080/",
          "height": 72
        },
        "outputId": "2d11e699-f024-4635-b683-87ccd9f36c3a"
      },
      "source": [
        "print(X_test.shape), print(ytest.shape)"
      ],
      "execution_count": 49,
      "outputs": [
        {
          "output_type": "stream",
          "text": [
            "(28, 25)\n",
            "(28,)\n"
          ],
          "name": "stdout"
        },
        {
          "output_type": "execute_result",
          "data": {
            "text/plain": [
              "(None, None)"
            ]
          },
          "metadata": {
            "tags": []
          },
          "execution_count": 49
        }
      ]
    },
    {
      "cell_type": "code",
      "metadata": {
        "id": "WNxKoDK1a-pr",
        "colab_type": "code",
        "colab": {}
      },
      "source": [
        "# reshape input to be [samples, time steps, features] which is required for LSTM ?????????????????\n",
        "X_train =X_train.reshape(X_train.shape[0],X_train.shape[1] , 1)\n",
        "X_test = X_test.reshape(X_test.shape[0],X_test.shape[1] , 1)"
      ],
      "execution_count": 50,
      "outputs": []
    },
    {
      "cell_type": "code",
      "metadata": {
        "id": "Cnf1X34vbC0n",
        "colab_type": "code",
        "colab": {
          "base_uri": "https://localhost:8080/",
          "height": 308
        },
        "outputId": "e6c1b574-3110-4c29-8a42-875c49ae4252"
      },
      "source": [
        "### Create the Stacked LSTM model\n",
        "from tensorflow.keras.models import Sequential\n",
        "from tensorflow.keras.layers import Dense\n",
        "from tensorflow.keras.layers import LSTM\n",
        "model=Sequential()\n",
        "model.add(LSTM(50,return_sequences=True,input_shape=(25,1)))\n",
        "model.add(LSTM(50,return_sequences=True))\n",
        "model.add(LSTM(50))\n",
        "model.add(Dense(1))\n",
        "model.compile(loss='mean_squared_error',optimizer='adam')\n",
        "model.summary()"
      ],
      "execution_count": 51,
      "outputs": [
        {
          "output_type": "stream",
          "text": [
            "Model: \"sequential\"\n",
            "_________________________________________________________________\n",
            "Layer (type)                 Output Shape              Param #   \n",
            "=================================================================\n",
            "lstm (LSTM)                  (None, 25, 50)            10400     \n",
            "_________________________________________________________________\n",
            "lstm_1 (LSTM)                (None, 25, 50)            20200     \n",
            "_________________________________________________________________\n",
            "lstm_2 (LSTM)                (None, 50)                20200     \n",
            "_________________________________________________________________\n",
            "dense (Dense)                (None, 1)                 51        \n",
            "=================================================================\n",
            "Total params: 50,851\n",
            "Trainable params: 50,851\n",
            "Non-trainable params: 0\n",
            "_________________________________________________________________\n"
          ],
          "name": "stdout"
        }
      ]
    },
    {
      "cell_type": "code",
      "metadata": {
        "id": "tGNHAfZqbJ9A",
        "colab_type": "code",
        "colab": {
          "base_uri": "https://localhost:8080/",
          "height": 1000
        },
        "outputId": "cb16cd5f-0554-4692-9161-4cc683b30ed1"
      },
      "source": [
        "model.fit(X_train,y_train,validation_data=(X_test,ytest),epochs=100,batch_size=64,verbose=5)"
      ],
      "execution_count": 52,
      "outputs": [
        {
          "output_type": "stream",
          "text": [
            "Epoch 1/100\n",
            "Epoch 2/100\n",
            "Epoch 3/100\n",
            "Epoch 4/100\n",
            "Epoch 5/100\n",
            "Epoch 6/100\n",
            "Epoch 7/100\n",
            "Epoch 8/100\n",
            "Epoch 9/100\n",
            "Epoch 10/100\n",
            "Epoch 11/100\n",
            "Epoch 12/100\n",
            "Epoch 13/100\n",
            "Epoch 14/100\n",
            "Epoch 15/100\n",
            "Epoch 16/100\n",
            "Epoch 17/100\n",
            "Epoch 18/100\n",
            "Epoch 19/100\n",
            "Epoch 20/100\n",
            "Epoch 21/100\n",
            "Epoch 22/100\n",
            "Epoch 23/100\n",
            "Epoch 24/100\n",
            "Epoch 25/100\n",
            "Epoch 26/100\n",
            "Epoch 27/100\n",
            "Epoch 28/100\n",
            "Epoch 29/100\n",
            "Epoch 30/100\n",
            "Epoch 31/100\n",
            "Epoch 32/100\n",
            "Epoch 33/100\n",
            "Epoch 34/100\n",
            "Epoch 35/100\n",
            "Epoch 36/100\n",
            "Epoch 37/100\n",
            "Epoch 38/100\n",
            "Epoch 39/100\n",
            "Epoch 40/100\n",
            "Epoch 41/100\n",
            "Epoch 42/100\n",
            "Epoch 43/100\n",
            "Epoch 44/100\n",
            "Epoch 45/100\n",
            "Epoch 46/100\n",
            "Epoch 47/100\n",
            "Epoch 48/100\n",
            "Epoch 49/100\n",
            "Epoch 50/100\n",
            "Epoch 51/100\n",
            "Epoch 52/100\n",
            "Epoch 53/100\n",
            "Epoch 54/100\n",
            "Epoch 55/100\n",
            "Epoch 56/100\n",
            "Epoch 57/100\n",
            "Epoch 58/100\n",
            "Epoch 59/100\n",
            "Epoch 60/100\n",
            "Epoch 61/100\n",
            "Epoch 62/100\n",
            "Epoch 63/100\n",
            "Epoch 64/100\n",
            "Epoch 65/100\n",
            "Epoch 66/100\n",
            "Epoch 67/100\n",
            "Epoch 68/100\n",
            "Epoch 69/100\n",
            "Epoch 70/100\n",
            "Epoch 71/100\n",
            "Epoch 72/100\n",
            "Epoch 73/100\n",
            "Epoch 74/100\n",
            "Epoch 75/100\n",
            "Epoch 76/100\n",
            "Epoch 77/100\n",
            "Epoch 78/100\n",
            "Epoch 79/100\n",
            "Epoch 80/100\n",
            "Epoch 81/100\n",
            "Epoch 82/100\n",
            "Epoch 83/100\n",
            "Epoch 84/100\n",
            "Epoch 85/100\n",
            "Epoch 86/100\n",
            "Epoch 87/100\n",
            "Epoch 88/100\n",
            "Epoch 89/100\n",
            "Epoch 90/100\n",
            "Epoch 91/100\n",
            "Epoch 92/100\n",
            "Epoch 93/100\n",
            "Epoch 94/100\n",
            "Epoch 95/100\n",
            "Epoch 96/100\n",
            "Epoch 97/100\n",
            "Epoch 98/100\n",
            "Epoch 99/100\n",
            "Epoch 100/100\n"
          ],
          "name": "stdout"
        },
        {
          "output_type": "execute_result",
          "data": {
            "text/plain": [
              "<tensorflow.python.keras.callbacks.History at 0x7f14860fe198>"
            ]
          },
          "metadata": {
            "tags": []
          },
          "execution_count": 52
        }
      ]
    },
    {
      "cell_type": "code",
      "metadata": {
        "id": "7aCwTRKGbd8h",
        "colab_type": "code",
        "colab": {}
      },
      "source": [
        "### Lets Do the prediction and check performance metrics\n",
        "train_predict=model.predict(X_train)\n",
        "test_predict=model.predict(X_test)"
      ],
      "execution_count": 53,
      "outputs": []
    },
    {
      "cell_type": "code",
      "metadata": {
        "id": "PN6GAcffbhiv",
        "colab_type": "code",
        "colab": {}
      },
      "source": [
        "##Transformback to original form\n",
        "train_predict=scaler.inverse_transform(train_predict)\n",
        "test_predict=scaler.inverse_transform(test_predict)"
      ],
      "execution_count": 54,
      "outputs": []
    },
    {
      "cell_type": "code",
      "metadata": {
        "id": "2mWYNLcNbmbv",
        "colab_type": "code",
        "colab": {
          "base_uri": "https://localhost:8080/",
          "height": 35
        },
        "outputId": "91afed8b-ad66-47a3-eaf2-c5bdc698b894"
      },
      "source": [
        "### Calculate RMSE performance metrics\n",
        "import math\n",
        "from sklearn.metrics import mean_squared_error\n",
        "math.sqrt(mean_squared_error(y_train,train_predict))"
      ],
      "execution_count": 55,
      "outputs": [
        {
          "output_type": "execute_result",
          "data": {
            "text/plain": [
              "15716.937598640887"
            ]
          },
          "metadata": {
            "tags": []
          },
          "execution_count": 55
        }
      ]
    },
    {
      "cell_type": "code",
      "metadata": {
        "id": "FPpfPhLVbrH5",
        "colab_type": "code",
        "colab": {
          "base_uri": "https://localhost:8080/",
          "height": 35
        },
        "outputId": "23c30d92-f043-4328-81e3-7742e3f8d679"
      },
      "source": [
        "math.sqrt(mean_squared_error(ytest,test_predict))"
      ],
      "execution_count": 56,
      "outputs": [
        {
          "output_type": "execute_result",
          "data": {
            "text/plain": [
              "365656.66103177925"
            ]
          },
          "metadata": {
            "tags": []
          },
          "execution_count": 56
        }
      ]
    },
    {
      "cell_type": "code",
      "metadata": {
        "id": "bi4bSVk9bwA4",
        "colab_type": "code",
        "colab": {
          "base_uri": "https://localhost:8080/",
          "height": 391
        },
        "outputId": "423e5112-db7b-4445-ea5b-0a89f03fde09"
      },
      "source": [
        "# shift train predictions for plotting\n",
        "look_back=25\n",
        "\n",
        "# reshape the figure\n",
        "plt.figure(figsize=(30,10))\n",
        "\n",
        "#first make empty numpy array of same size of df1\n",
        "trainPredictPlot = numpy.empty_like(df1)\n",
        "trainPredictPlot[:, :] = np.nan\n",
        "\n",
        "trainPredictPlot[look_back:len(train_predict)+look_back, :] = train_predict\n",
        "\n",
        "# shift test predictions for plotting\n",
        "testPredictPlot = numpy.empty_like(df1)\n",
        "testPredictPlot[:, :] = numpy.nan\n",
        "testPredictPlot[len(train_predict)+(look_back*2)+1:len(df1)-1, :] = test_predict\n",
        "\n",
        "# For plotting purpose we use following\n",
        "# plot baseline and predictions\n",
        "plt.plot(scaler.inverse_transform(df1),label='Original')\n",
        "plt.plot(trainPredictPlot,label='Train prediction')\n",
        "plt.plot(testPredictPlot,label='Test prediction')\n",
        "plt.legend()\n",
        "plt.ylabel('number of cases') \n",
        "plt.xlabel('Days') \n",
        "plt.show()"
      ],
      "execution_count": 64,
      "outputs": [
        {
          "output_type": "display_data",
          "data": {
            "image/png": "[encoded data removed]",
            "text/plain": [
              "<Figure size 2160x720 with 1 Axes>"
            ]
          },
          "metadata": {
            "tags": [],
            "needs_background": "light"
          }
        }
      ]
    }
  ]
}