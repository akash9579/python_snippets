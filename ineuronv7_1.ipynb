{
  "nbformat": 4,
  "nbformat_minor": 0,
  "metadata": {
    "colab": {
      "name": "ineuronv7_1.ipynb",
      "provenance": []
    },
    "kernelspec": {
      "name": "python3",
      "display_name": "Python 3"
    }
  },
  "cells": [
    {
      "cell_type": "markdown",
      "metadata": {
        "id": "TNVNAggNV8od",
        "colab_type": "text"
      },
      "source": [
        "modules for model development\n",
        "\n",
        "1  -  load libraries\n",
        "\n",
        "2  -  data profilling  (understand the data)\n",
        "\n",
        "3  -  EDA\n",
        "\n",
        "4  -  Data Cleaning\n",
        "\n",
        "5  -  EDA after data cleaning\n",
        "\n",
        "6\n",
        "\n",
        "7\n",
        "\n",
        "8"
      ]
    },
    {
      "cell_type": "markdown",
      "metadata": {
        "id": "7ntufHl1n28c",
        "colab_type": "text"
      },
      "source": [
        "**load libraries**\n",
        "\n",
        "we need basic libraries like pandas,numpy for data handling,seaborn is used for statistical graphics in Python.\n",
        "\n",
        "sklearn is machine learning library which contain all ml algorithms and useful methods for preprocessing.this library contain lots of features like Cross-validation,train-split etc."
      ]
    },
    {
      "cell_type": "code",
      "metadata": {
        "id": "Ls9A58exnH_q",
        "colab_type": "code",
        "colab": {}
      },
      "source": [
        "import pandas as pd\n",
        "import seaborn as sns\n",
        "from sklearn import preprocessing \n",
        "from scipy import stats\n",
        "import numpy as np\n",
        "import matplotlib.pyplot as plt"
      ],
      "execution_count": 26,
      "outputs": []
    },
    {
      "cell_type": "markdown",
      "metadata": {
        "id": "gjeWDJDyn7YU",
        "colab_type": "text"
      },
      "source": [
        "**Data Profilling**"
      ]
    },
    {
      "cell_type": "code",
      "metadata": {
        "id": "Wnr3Ic63nTgM",
        "colab_type": "code",
        "colab": {}
      },
      "source": [
        "data = pd.read_excel('/content/Data_Cortex_Nuclear.xls')"
      ],
      "execution_count": 120,
      "outputs": []
    },
    {
      "cell_type": "code",
      "metadata": {
        "id": "LTNaQDldnUhc",
        "colab_type": "code",
        "colab": {
          "base_uri": "https://localhost:8080/",
          "height": 255
        },
        "outputId": "a1fbff77-0584-4c64-8a53-8c7371c0e911"
      },
      "source": [
        "data.head()"
      ],
      "execution_count": 71,
      "outputs": [
        {
          "output_type": "execute_result",
          "data": {
            "text/html": [
              "<div>\n",
              "<style scoped>\n",
              "    .dataframe tbody tr th:only-of-type {\n",
              "        vertical-align: middle;\n",
              "    }\n",
              "\n",
              "    .dataframe tbody tr th {\n",
              "        vertical-align: top;\n",
              "    }\n",
              "\n",
              "    .dataframe thead th {\n",
              "        text-align: right;\n",
              "    }\n",
              "</style>\n",
              "<table border=\"1\" class=\"dataframe\">\n",
              "  <thead>\n",
              "    <tr style=\"text-align: right;\">\n",
              "      <th></th>\n",
              "      <th>MouseID</th>\n",
              "      <th>DYRK1A_N</th>\n",
              "      <th>ITSN1_N</th>\n",
              "      <th>BDNF_N</th>\n",
              "      <th>NR1_N</th>\n",
              "      <th>NR2A_N</th>\n",
              "      <th>pAKT_N</th>\n",
              "      <th>pBRAF_N</th>\n",
              "      <th>pCAMKII_N</th>\n",
              "      <th>pCREB_N</th>\n",
              "      <th>pELK_N</th>\n",
              "      <th>pERK_N</th>\n",
              "      <th>pJNK_N</th>\n",
              "      <th>PKCA_N</th>\n",
              "      <th>pMEK_N</th>\n",
              "      <th>pNR1_N</th>\n",
              "      <th>pNR2A_N</th>\n",
              "      <th>pNR2B_N</th>\n",
              "      <th>pPKCAB_N</th>\n",
              "      <th>pRSK_N</th>\n",
              "      <th>AKT_N</th>\n",
              "      <th>BRAF_N</th>\n",
              "      <th>CAMKII_N</th>\n",
              "      <th>CREB_N</th>\n",
              "      <th>ELK_N</th>\n",
              "      <th>ERK_N</th>\n",
              "      <th>GSK3B_N</th>\n",
              "      <th>JNK_N</th>\n",
              "      <th>MEK_N</th>\n",
              "      <th>TRKA_N</th>\n",
              "      <th>RSK_N</th>\n",
              "      <th>APP_N</th>\n",
              "      <th>Bcatenin_N</th>\n",
              "      <th>SOD1_N</th>\n",
              "      <th>MTOR_N</th>\n",
              "      <th>P38_N</th>\n",
              "      <th>pMTOR_N</th>\n",
              "      <th>DSCR1_N</th>\n",
              "      <th>AMPKA_N</th>\n",
              "      <th>NR2B_N</th>\n",
              "      <th>...</th>\n",
              "      <th>TIAM1_N</th>\n",
              "      <th>pP70S6_N</th>\n",
              "      <th>NUMB_N</th>\n",
              "      <th>P70S6_N</th>\n",
              "      <th>pGSK3B_N</th>\n",
              "      <th>pPKCG_N</th>\n",
              "      <th>CDK5_N</th>\n",
              "      <th>S6_N</th>\n",
              "      <th>ADARB1_N</th>\n",
              "      <th>AcetylH3K9_N</th>\n",
              "      <th>RRP1_N</th>\n",
              "      <th>BAX_N</th>\n",
              "      <th>ARC_N</th>\n",
              "      <th>ERBB4_N</th>\n",
              "      <th>nNOS_N</th>\n",
              "      <th>Tau_N</th>\n",
              "      <th>GFAP_N</th>\n",
              "      <th>GluR3_N</th>\n",
              "      <th>GluR4_N</th>\n",
              "      <th>IL1B_N</th>\n",
              "      <th>P3525_N</th>\n",
              "      <th>pCASP9_N</th>\n",
              "      <th>PSD95_N</th>\n",
              "      <th>SNCA_N</th>\n",
              "      <th>Ubiquitin_N</th>\n",
              "      <th>pGSK3B_Tyr216_N</th>\n",
              "      <th>SHH_N</th>\n",
              "      <th>BAD_N</th>\n",
              "      <th>BCL2_N</th>\n",
              "      <th>pS6_N</th>\n",
              "      <th>pCFOS_N</th>\n",
              "      <th>SYP_N</th>\n",
              "      <th>H3AcK18_N</th>\n",
              "      <th>EGR1_N</th>\n",
              "      <th>H3MeK4_N</th>\n",
              "      <th>CaNA_N</th>\n",
              "      <th>Genotype</th>\n",
              "      <th>Treatment</th>\n",
              "      <th>Behavior</th>\n",
              "      <th>class</th>\n",
              "    </tr>\n",
              "  </thead>\n",
              "  <tbody>\n",
              "    <tr>\n",
              "      <th>0</th>\n",
              "      <td>45</td>\n",
              "      <td>0.503644</td>\n",
              "      <td>0.747193</td>\n",
              "      <td>0.430175</td>\n",
              "      <td>2.816329</td>\n",
              "      <td>5.990152</td>\n",
              "      <td>0.218830</td>\n",
              "      <td>0.177565</td>\n",
              "      <td>2.373744</td>\n",
              "      <td>0.232224</td>\n",
              "      <td>1.750936</td>\n",
              "      <td>0.687906</td>\n",
              "      <td>0.306382</td>\n",
              "      <td>0.402698</td>\n",
              "      <td>0.296927</td>\n",
              "      <td>1.022060</td>\n",
              "      <td>0.605673</td>\n",
              "      <td>1.877684</td>\n",
              "      <td>2.308745</td>\n",
              "      <td>0.441599</td>\n",
              "      <td>0.859366</td>\n",
              "      <td>0.416289</td>\n",
              "      <td>0.369608</td>\n",
              "      <td>0.178944</td>\n",
              "      <td>1.866358</td>\n",
              "      <td>3.685247</td>\n",
              "      <td>1.537227</td>\n",
              "      <td>0.264526</td>\n",
              "      <td>0.319677</td>\n",
              "      <td>0.813866</td>\n",
              "      <td>0.165846</td>\n",
              "      <td>0.453910</td>\n",
              "      <td>3.037621</td>\n",
              "      <td>0.369510</td>\n",
              "      <td>0.458539</td>\n",
              "      <td>0.335336</td>\n",
              "      <td>0.825192</td>\n",
              "      <td>0.576916</td>\n",
              "      <td>0.448099</td>\n",
              "      <td>0.586271</td>\n",
              "      <td>...</td>\n",
              "      <td>0.482864</td>\n",
              "      <td>0.294170</td>\n",
              "      <td>0.182150</td>\n",
              "      <td>0.842725</td>\n",
              "      <td>0.192608</td>\n",
              "      <td>1.443091</td>\n",
              "      <td>0.294700</td>\n",
              "      <td>0.354605</td>\n",
              "      <td>1.339070</td>\n",
              "      <td>0.170119</td>\n",
              "      <td>0.159102</td>\n",
              "      <td>0.188852</td>\n",
              "      <td>0.106305</td>\n",
              "      <td>0.144989</td>\n",
              "      <td>0.176668</td>\n",
              "      <td>0.125190</td>\n",
              "      <td>0.115291</td>\n",
              "      <td>0.228043</td>\n",
              "      <td>0.142756</td>\n",
              "      <td>0.430957</td>\n",
              "      <td>0.247538</td>\n",
              "      <td>1.603310</td>\n",
              "      <td>2.014875</td>\n",
              "      <td>0.108234</td>\n",
              "      <td>1.044979</td>\n",
              "      <td>0.831557</td>\n",
              "      <td>0.188852</td>\n",
              "      <td>0.122652</td>\n",
              "      <td>0.134762</td>\n",
              "      <td>0.106305</td>\n",
              "      <td>0.108336</td>\n",
              "      <td>0.427099</td>\n",
              "      <td>0.114783</td>\n",
              "      <td>0.131790</td>\n",
              "      <td>0.128186</td>\n",
              "      <td>1.675652</td>\n",
              "      <td>0</td>\n",
              "      <td>0</td>\n",
              "      <td>0</td>\n",
              "      <td>0</td>\n",
              "    </tr>\n",
              "    <tr>\n",
              "      <th>1</th>\n",
              "      <td>52</td>\n",
              "      <td>0.514617</td>\n",
              "      <td>0.689064</td>\n",
              "      <td>0.411770</td>\n",
              "      <td>2.789514</td>\n",
              "      <td>5.685038</td>\n",
              "      <td>0.211636</td>\n",
              "      <td>0.172817</td>\n",
              "      <td>2.292150</td>\n",
              "      <td>0.226972</td>\n",
              "      <td>1.596377</td>\n",
              "      <td>0.695006</td>\n",
              "      <td>0.299051</td>\n",
              "      <td>0.385987</td>\n",
              "      <td>0.281319</td>\n",
              "      <td>0.956676</td>\n",
              "      <td>0.587559</td>\n",
              "      <td>1.725774</td>\n",
              "      <td>2.043037</td>\n",
              "      <td>0.445222</td>\n",
              "      <td>0.834659</td>\n",
              "      <td>0.400364</td>\n",
              "      <td>0.356178</td>\n",
              "      <td>0.173680</td>\n",
              "      <td>1.761047</td>\n",
              "      <td>3.485287</td>\n",
              "      <td>1.509249</td>\n",
              "      <td>0.255727</td>\n",
              "      <td>0.304419</td>\n",
              "      <td>0.780504</td>\n",
              "      <td>0.157194</td>\n",
              "      <td>0.430940</td>\n",
              "      <td>2.921882</td>\n",
              "      <td>0.342279</td>\n",
              "      <td>0.423560</td>\n",
              "      <td>0.324835</td>\n",
              "      <td>0.761718</td>\n",
              "      <td>0.545097</td>\n",
              "      <td>0.420876</td>\n",
              "      <td>0.545097</td>\n",
              "      <td>...</td>\n",
              "      <td>0.454519</td>\n",
              "      <td>0.276431</td>\n",
              "      <td>0.182086</td>\n",
              "      <td>0.847615</td>\n",
              "      <td>0.194815</td>\n",
              "      <td>1.439460</td>\n",
              "      <td>0.294060</td>\n",
              "      <td>0.354548</td>\n",
              "      <td>1.306323</td>\n",
              "      <td>0.171427</td>\n",
              "      <td>0.158129</td>\n",
              "      <td>0.184570</td>\n",
              "      <td>0.106592</td>\n",
              "      <td>0.150471</td>\n",
              "      <td>0.178309</td>\n",
              "      <td>0.134275</td>\n",
              "      <td>0.118235</td>\n",
              "      <td>0.238073</td>\n",
              "      <td>0.142037</td>\n",
              "      <td>0.457156</td>\n",
              "      <td>0.257632</td>\n",
              "      <td>1.671738</td>\n",
              "      <td>2.004605</td>\n",
              "      <td>0.109749</td>\n",
              "      <td>1.009883</td>\n",
              "      <td>0.849270</td>\n",
              "      <td>0.200404</td>\n",
              "      <td>0.116682</td>\n",
              "      <td>0.134762</td>\n",
              "      <td>0.106592</td>\n",
              "      <td>0.104315</td>\n",
              "      <td>0.441581</td>\n",
              "      <td>0.111974</td>\n",
              "      <td>0.135103</td>\n",
              "      <td>0.131119</td>\n",
              "      <td>1.743610</td>\n",
              "      <td>0</td>\n",
              "      <td>0</td>\n",
              "      <td>0</td>\n",
              "      <td>0</td>\n",
              "    </tr>\n",
              "    <tr>\n",
              "      <th>2</th>\n",
              "      <td>53</td>\n",
              "      <td>0.509183</td>\n",
              "      <td>0.730247</td>\n",
              "      <td>0.418309</td>\n",
              "      <td>2.687201</td>\n",
              "      <td>5.622059</td>\n",
              "      <td>0.209011</td>\n",
              "      <td>0.175722</td>\n",
              "      <td>2.283337</td>\n",
              "      <td>0.230247</td>\n",
              "      <td>1.561316</td>\n",
              "      <td>0.677348</td>\n",
              "      <td>0.291276</td>\n",
              "      <td>0.381002</td>\n",
              "      <td>0.281710</td>\n",
              "      <td>1.003635</td>\n",
              "      <td>0.602449</td>\n",
              "      <td>1.731873</td>\n",
              "      <td>2.017984</td>\n",
              "      <td>0.467668</td>\n",
              "      <td>0.814329</td>\n",
              "      <td>0.399847</td>\n",
              "      <td>0.368089</td>\n",
              "      <td>0.173905</td>\n",
              "      <td>1.765544</td>\n",
              "      <td>3.571456</td>\n",
              "      <td>1.501244</td>\n",
              "      <td>0.259614</td>\n",
              "      <td>0.311747</td>\n",
              "      <td>0.785154</td>\n",
              "      <td>0.160895</td>\n",
              "      <td>0.423187</td>\n",
              "      <td>2.944136</td>\n",
              "      <td>0.343696</td>\n",
              "      <td>0.425005</td>\n",
              "      <td>0.324852</td>\n",
              "      <td>0.757031</td>\n",
              "      <td>0.543620</td>\n",
              "      <td>0.404630</td>\n",
              "      <td>0.552994</td>\n",
              "      <td>...</td>\n",
              "      <td>0.447197</td>\n",
              "      <td>0.256648</td>\n",
              "      <td>0.184388</td>\n",
              "      <td>0.856166</td>\n",
              "      <td>0.200737</td>\n",
              "      <td>1.524364</td>\n",
              "      <td>0.301881</td>\n",
              "      <td>0.386087</td>\n",
              "      <td>1.279600</td>\n",
              "      <td>0.185456</td>\n",
              "      <td>0.148696</td>\n",
              "      <td>0.190532</td>\n",
              "      <td>0.108303</td>\n",
              "      <td>0.145330</td>\n",
              "      <td>0.176213</td>\n",
              "      <td>0.132560</td>\n",
              "      <td>0.117760</td>\n",
              "      <td>0.244817</td>\n",
              "      <td>0.142445</td>\n",
              "      <td>0.510472</td>\n",
              "      <td>0.255343</td>\n",
              "      <td>1.663550</td>\n",
              "      <td>2.016831</td>\n",
              "      <td>0.108196</td>\n",
              "      <td>0.996848</td>\n",
              "      <td>0.846709</td>\n",
              "      <td>0.193685</td>\n",
              "      <td>0.118508</td>\n",
              "      <td>0.134762</td>\n",
              "      <td>0.108303</td>\n",
              "      <td>0.106219</td>\n",
              "      <td>0.435777</td>\n",
              "      <td>0.111883</td>\n",
              "      <td>0.133362</td>\n",
              "      <td>0.127431</td>\n",
              "      <td>1.926427</td>\n",
              "      <td>0</td>\n",
              "      <td>0</td>\n",
              "      <td>0</td>\n",
              "      <td>0</td>\n",
              "    </tr>\n",
              "    <tr>\n",
              "      <th>3</th>\n",
              "      <td>54</td>\n",
              "      <td>0.442107</td>\n",
              "      <td>0.617076</td>\n",
              "      <td>0.358626</td>\n",
              "      <td>2.466947</td>\n",
              "      <td>4.979503</td>\n",
              "      <td>0.222886</td>\n",
              "      <td>0.176463</td>\n",
              "      <td>2.152301</td>\n",
              "      <td>0.207004</td>\n",
              "      <td>1.595086</td>\n",
              "      <td>0.583277</td>\n",
              "      <td>0.296729</td>\n",
              "      <td>0.377087</td>\n",
              "      <td>0.313832</td>\n",
              "      <td>0.875390</td>\n",
              "      <td>0.520293</td>\n",
              "      <td>1.566852</td>\n",
              "      <td>2.132754</td>\n",
              "      <td>0.477671</td>\n",
              "      <td>0.727705</td>\n",
              "      <td>0.385639</td>\n",
              "      <td>0.362970</td>\n",
              "      <td>0.179449</td>\n",
              "      <td>1.286277</td>\n",
              "      <td>2.970137</td>\n",
              "      <td>1.419710</td>\n",
              "      <td>0.259536</td>\n",
              "      <td>0.279218</td>\n",
              "      <td>0.734492</td>\n",
              "      <td>0.162210</td>\n",
              "      <td>0.410615</td>\n",
              "      <td>2.500204</td>\n",
              "      <td>0.344509</td>\n",
              "      <td>0.429211</td>\n",
              "      <td>0.330121</td>\n",
              "      <td>0.746980</td>\n",
              "      <td>0.546763</td>\n",
              "      <td>0.386860</td>\n",
              "      <td>0.547849</td>\n",
              "      <td>...</td>\n",
              "      <td>0.442650</td>\n",
              "      <td>0.398534</td>\n",
              "      <td>0.161768</td>\n",
              "      <td>0.760234</td>\n",
              "      <td>0.184169</td>\n",
              "      <td>1.612382</td>\n",
              "      <td>0.296382</td>\n",
              "      <td>0.290680</td>\n",
              "      <td>1.198765</td>\n",
              "      <td>0.159799</td>\n",
              "      <td>0.166112</td>\n",
              "      <td>0.185323</td>\n",
              "      <td>0.103184</td>\n",
              "      <td>0.140656</td>\n",
              "      <td>0.163804</td>\n",
              "      <td>0.123210</td>\n",
              "      <td>0.117439</td>\n",
              "      <td>0.234947</td>\n",
              "      <td>0.145068</td>\n",
              "      <td>0.430996</td>\n",
              "      <td>0.251103</td>\n",
              "      <td>1.484624</td>\n",
              "      <td>1.957233</td>\n",
              "      <td>0.119883</td>\n",
              "      <td>0.990225</td>\n",
              "      <td>0.833277</td>\n",
              "      <td>0.192112</td>\n",
              "      <td>0.132781</td>\n",
              "      <td>0.134762</td>\n",
              "      <td>0.103184</td>\n",
              "      <td>0.111262</td>\n",
              "      <td>0.391691</td>\n",
              "      <td>0.130405</td>\n",
              "      <td>0.147444</td>\n",
              "      <td>0.146901</td>\n",
              "      <td>1.700563</td>\n",
              "      <td>0</td>\n",
              "      <td>0</td>\n",
              "      <td>0</td>\n",
              "      <td>0</td>\n",
              "    </tr>\n",
              "    <tr>\n",
              "      <th>4</th>\n",
              "      <td>55</td>\n",
              "      <td>0.434940</td>\n",
              "      <td>0.617430</td>\n",
              "      <td>0.358802</td>\n",
              "      <td>2.365785</td>\n",
              "      <td>4.718679</td>\n",
              "      <td>0.213106</td>\n",
              "      <td>0.173627</td>\n",
              "      <td>2.134014</td>\n",
              "      <td>0.192158</td>\n",
              "      <td>1.504230</td>\n",
              "      <td>0.550960</td>\n",
              "      <td>0.286961</td>\n",
              "      <td>0.363502</td>\n",
              "      <td>0.277964</td>\n",
              "      <td>0.864912</td>\n",
              "      <td>0.507990</td>\n",
              "      <td>1.480059</td>\n",
              "      <td>2.013697</td>\n",
              "      <td>0.483416</td>\n",
              "      <td>0.687794</td>\n",
              "      <td>0.367531</td>\n",
              "      <td>0.355311</td>\n",
              "      <td>0.174836</td>\n",
              "      <td>1.324695</td>\n",
              "      <td>2.896334</td>\n",
              "      <td>1.359876</td>\n",
              "      <td>0.250705</td>\n",
              "      <td>0.273667</td>\n",
              "      <td>0.702699</td>\n",
              "      <td>0.154827</td>\n",
              "      <td>0.398550</td>\n",
              "      <td>2.456560</td>\n",
              "      <td>0.329126</td>\n",
              "      <td>0.408755</td>\n",
              "      <td>0.313415</td>\n",
              "      <td>0.691956</td>\n",
              "      <td>0.536860</td>\n",
              "      <td>0.360816</td>\n",
              "      <td>0.512824</td>\n",
              "      <td>...</td>\n",
              "      <td>0.419095</td>\n",
              "      <td>0.393447</td>\n",
              "      <td>0.160200</td>\n",
              "      <td>0.768113</td>\n",
              "      <td>0.185718</td>\n",
              "      <td>1.645807</td>\n",
              "      <td>0.296829</td>\n",
              "      <td>0.309345</td>\n",
              "      <td>1.206995</td>\n",
              "      <td>0.164650</td>\n",
              "      <td>0.160687</td>\n",
              "      <td>0.188221</td>\n",
              "      <td>0.104784</td>\n",
              "      <td>0.141983</td>\n",
              "      <td>0.167710</td>\n",
              "      <td>0.136838</td>\n",
              "      <td>0.116048</td>\n",
              "      <td>0.255528</td>\n",
              "      <td>0.140871</td>\n",
              "      <td>0.481227</td>\n",
              "      <td>0.251773</td>\n",
              "      <td>1.534835</td>\n",
              "      <td>2.009109</td>\n",
              "      <td>0.119524</td>\n",
              "      <td>0.997775</td>\n",
              "      <td>0.878668</td>\n",
              "      <td>0.205604</td>\n",
              "      <td>0.129954</td>\n",
              "      <td>0.134762</td>\n",
              "      <td>0.104784</td>\n",
              "      <td>0.110694</td>\n",
              "      <td>0.434154</td>\n",
              "      <td>0.118481</td>\n",
              "      <td>0.140314</td>\n",
              "      <td>0.148380</td>\n",
              "      <td>1.839730</td>\n",
              "      <td>0</td>\n",
              "      <td>0</td>\n",
              "      <td>0</td>\n",
              "      <td>0</td>\n",
              "    </tr>\n",
              "  </tbody>\n",
              "</table>\n",
              "<p>5 rows × 82 columns</p>\n",
              "</div>"
            ],
            "text/plain": [
              "   MouseID  DYRK1A_N   ITSN1_N    BDNF_N  ...  Genotype  Treatment  Behavior  class\n",
              "0       45  0.503644  0.747193  0.430175  ...         0          0         0      0\n",
              "1       52  0.514617  0.689064  0.411770  ...         0          0         0      0\n",
              "2       53  0.509183  0.730247  0.418309  ...         0          0         0      0\n",
              "3       54  0.442107  0.617076  0.358626  ...         0          0         0      0\n",
              "4       55  0.434940  0.617430  0.358802  ...         0          0         0      0\n",
              "\n",
              "[5 rows x 82 columns]"
            ]
          },
          "metadata": {
            "tags": []
          },
          "execution_count": 71
        }
      ]
    },
    {
      "cell_type": "code",
      "metadata": {
        "id": "VjWtj9-ZnZDW",
        "colab_type": "code",
        "colab": {}
      },
      "source": [
        "data.info()"
      ],
      "execution_count": null,
      "outputs": []
    },
    {
      "cell_type": "code",
      "metadata": {
        "id": "UsLpq209nemU",
        "colab_type": "code",
        "colab": {}
      },
      "source": [
        "data.shape"
      ],
      "execution_count": null,
      "outputs": []
    },
    {
      "cell_type": "code",
      "metadata": {
        "id": "4hlFPwwpnhhE",
        "colab_type": "code",
        "colab": {}
      },
      "source": [
        "data.describe()"
      ],
      "execution_count": null,
      "outputs": []
    },
    {
      "cell_type": "code",
      "metadata": {
        "id": "mJcE56VmnnF8",
        "colab_type": "code",
        "colab": {}
      },
      "source": [
        "data.columns  "
      ],
      "execution_count": null,
      "outputs": []
    },
    {
      "cell_type": "markdown",
      "metadata": {
        "id": "UO7f4xyknuAt",
        "colab_type": "text"
      },
      "source": [
        "check null data"
      ]
    },
    {
      "cell_type": "code",
      "metadata": {
        "id": "4j8s2GZtnsAs",
        "colab_type": "code",
        "colab": {}
      },
      "source": [
        "data.isnull()"
      ],
      "execution_count": null,
      "outputs": []
    },
    {
      "cell_type": "code",
      "metadata": {
        "id": "cGghEyxmoG0j",
        "colab_type": "code",
        "colab": {}
      },
      "source": [
        "data.isnull().sum()"
      ],
      "execution_count": null,
      "outputs": []
    },
    {
      "cell_type": "code",
      "metadata": {
        "id": "f87WxT7BoYvz",
        "colab_type": "code",
        "colab": {}
      },
      "source": [
        "# Null list contains column names having null values\n",
        "null_list=[]\n",
        "for i in range (0,data.isnull().sum().shape[0]-1):\n",
        "  if(data.isnull().sum()[i]>0):\n",
        "    null_list.append(data.isnull().sum().index[i])\n"
      ],
      "execution_count": 35,
      "outputs": []
    },
    {
      "cell_type": "code",
      "metadata": {
        "id": "QePWBRu1oaKD",
        "colab_type": "code",
        "colab": {}
      },
      "source": [
        "len(null_list)    # 49 columns having null values"
      ],
      "execution_count": null,
      "outputs": []
    },
    {
      "cell_type": "code",
      "metadata": {
        "id": "_OjPvOFVwq1O",
        "colab_type": "code",
        "colab": {}
      },
      "source": [
        "for i in null_list: \n",
        "    if(i == 'H3MeK4_N') : \n",
        "        print (\"Element Exists\") "
      ],
      "execution_count": null,
      "outputs": []
    },
    {
      "cell_type": "code",
      "metadata": {
        "id": "LIwADQVzolCU",
        "colab_type": "code",
        "colab": {}
      },
      "source": [
        "# catagorical list contains column names having categorial values\n",
        "cat_features=[i for i in data.columns if data.dtypes[i]=='object'] "
      ],
      "execution_count": 38,
      "outputs": []
    },
    {
      "cell_type": "code",
      "metadata": {
        "id": "9tFuYlL7osFb",
        "colab_type": "code",
        "colab": {}
      },
      "source": [
        "len(cat_features)    # 5 columns having categorial data"
      ],
      "execution_count": null,
      "outputs": []
    },
    {
      "cell_type": "code",
      "metadata": {
        "id": "V4fjNWrZoCVc",
        "colab_type": "code",
        "colab": {}
      },
      "source": [
        "data.nunique(axis=0)"
      ],
      "execution_count": null,
      "outputs": []
    },
    {
      "cell_type": "code",
      "metadata": {
        "id": "F66TKfe4JPpM",
        "colab_type": "code",
        "colab": {}
      },
      "source": [
        "data['class'].value_counts()   # from this we can say labels are balanced"
      ],
      "execution_count": null,
      "outputs": []
    },
    {
      "cell_type": "code",
      "metadata": {
        "id": "MjumtC1zquAR",
        "colab_type": "code",
        "colab": {
          "base_uri": "https://localhost:8080/",
          "height": 35
        },
        "outputId": "c5075ee1-fcbf-4af3-fa57-58763f71f100"
      },
      "source": [
        "data.shape"
      ],
      "execution_count": 44,
      "outputs": [
        {
          "output_type": "execute_result",
          "data": {
            "text/plain": [
              "(1080, 82)"
            ]
          },
          "metadata": {
            "tags": []
          },
          "execution_count": 44
        }
      ]
    },
    {
      "cell_type": "markdown",
      "metadata": {
        "id": "CsKdXXdQJ5t2",
        "colab_type": "text"
      },
      "source": [
        "-------------------------------------------------------------------------------\n",
        "\n",
        "\n",
        "\n",
        "we perform data profilling for understanding the dataset \n",
        "\n",
        "size of dataset is 1080 rows × 82 columns\n",
        "\n",
        "all columns are float datatype except MouseID,Genotype,Treatment,Behavior,class columns .\n",
        "\n",
        "data.columns  is used to get list of all columns\n",
        "\n",
        "data.nunique(axis=0) this function used to show unique value per column\n",
        "\n",
        "49 columns having null values\n",
        "\n",
        "5 columns having categorial data\n",
        "\n",
        "\n",
        "\n",
        "\n",
        "\n",
        "--------------------------------------------------------------------------------"
      ]
    },
    {
      "cell_type": "markdown",
      "metadata": {
        "id": "vzFDT2UiuTJi",
        "colab_type": "text"
      },
      "source": [
        "**Graph based EDA**"
      ]
    },
    {
      "cell_type": "code",
      "metadata": {
        "id": "YZTbu7UNoKDc",
        "colab_type": "code",
        "colab": {
          "base_uri": "https://localhost:8080/",
          "height": 466
        },
        "outputId": "37b66289-a1d8-42c6-ec96-17e0c96e1bad"
      },
      "source": [
        "plt.figure(figsize=(25,8))\n",
        "sns.heatmap(data.isnull(),yticklabels=False,cbar=False)"
      ],
      "execution_count": 45,
      "outputs": [
        {
          "output_type": "execute_result",
          "data": {
            "text/plain": [
              "<matplotlib.axes._subplots.AxesSubplot at 0x7f0d531e8390>"
            ]
          },
          "metadata": {
            "tags": []
          },
          "execution_count": 45
        },
        {
          "output_type": "display_data",
          "data": {
            "image/png": "[encoded data removed]",
            "text/plain": [
              "<Figure size 1800x576 with 1 Axes>"
            ]
          },
          "metadata": {
            "tags": []
          }
        }
      ]
    },
    {
      "cell_type": "code",
      "metadata": {
        "id": "iJodVehcymOy",
        "colab_type": "code",
        "colab": {
          "base_uri": "https://localhost:8080/",
          "height": 408
        },
        "outputId": "e6c785a9-c646-47b3-8d6a-108b39b59dfb"
      },
      "source": [
        "plt.figure(figsize=(25,8))\n",
        "sns.distplot(data['ITSN1_N'].dropna())"
      ],
      "execution_count": 68,
      "outputs": [
        {
          "output_type": "execute_result",
          "data": {
            "text/plain": [
              "<matplotlib.axes._subplots.AxesSubplot at 0x7f0d45caee10>"
            ]
          },
          "metadata": {
            "tags": []
          },
          "execution_count": 68
        },
        {
          "output_type": "display_data",
          "data": {
            "image/png": "[encoded data removed]",
            "text/plain": [
              "<Figure size 1800x576 with 1 Axes>"
            ]
          },
          "metadata": {
            "tags": []
          }
        }
      ]
    },
    {
      "cell_type": "code",
      "metadata": {
        "id": "G6bZ2Ux-zXno",
        "colab_type": "code",
        "colab": {
          "base_uri": "https://localhost:8080/",
          "height": 408
        },
        "outputId": "22b70a97-37d2-45e4-a55e-907d956fe78b"
      },
      "source": [
        "plt.figure(figsize=(25,8))\n",
        "sns.distplot(data['DYRK1A_N'].dropna())"
      ],
      "execution_count": 69,
      "outputs": [
        {
          "output_type": "execute_result",
          "data": {
            "text/plain": [
              "<matplotlib.axes._subplots.AxesSubplot at 0x7f0d45c09358>"
            ]
          },
          "metadata": {
            "tags": []
          },
          "execution_count": 69
        },
        {
          "output_type": "display_data",
          "data": {
            "image/png": "[encoded data removed]",
            "text/plain": [
              "<Figure size 1800x576 with 1 Axes>"
            ]
          },
          "metadata": {
            "tags": []
          }
        }
      ]
    },
    {
      "cell_type": "code",
      "metadata": {
        "id": "7-4res6Q13Hu",
        "colab_type": "code",
        "colab": {
          "base_uri": "https://localhost:8080/",
          "height": 181
        },
        "outputId": "17a04000-8c28-4260-e9b7-dffdb0515bfd"
      },
      "source": [
        "data.DYRK1A_N.describe()"
      ],
      "execution_count": 70,
      "outputs": [
        {
          "output_type": "execute_result",
          "data": {
            "text/plain": [
              "count    1080.000000\n",
              "mean        0.425810\n",
              "std         0.249015\n",
              "min         0.145327\n",
              "25%         0.288163\n",
              "50%         0.366540\n",
              "75%         0.487574\n",
              "max         2.516367\n",
              "Name: DYRK1A_N, dtype: float64"
            ]
          },
          "metadata": {
            "tags": []
          },
          "execution_count": 70
        }
      ]
    },
    {
      "cell_type": "code",
      "metadata": {
        "id": "4PAU7zWP3KE7",
        "colab_type": "code",
        "colab": {
          "base_uri": "https://localhost:8080/",
          "height": 90
        },
        "outputId": "f417aae5-83fc-497c-fc6c-3f469fe3935b"
      },
      "source": [
        "uppper_boundary=data['DYRK1A_N'].mean() + 3* data['DYRK1A_N'].std()\n",
        "lower_boundary=data['DYRK1A_N'].mean() - 3* data['DYRK1A_N'].std()\n",
        "print(lower_boundary), print(uppper_boundary),print(data['DYRK1A_N'].mean())"
      ],
      "execution_count": 72,
      "outputs": [
        {
          "output_type": "stream",
          "text": [
            "-0.32123503263406994\n",
            "1.1728553584539414\n",
            "0.4258101629099357\n"
          ],
          "name": "stdout"
        },
        {
          "output_type": "execute_result",
          "data": {
            "text/plain": [
              "(None, None, None)"
            ]
          },
          "metadata": {
            "tags": []
          },
          "execution_count": 72
        }
      ]
    },
    {
      "cell_type": "code",
      "metadata": {
        "id": "UxKgbuuM5d6r",
        "colab_type": "code",
        "colab": {
          "base_uri": "https://localhost:8080/",
          "height": 35
        },
        "outputId": "81e114ea-bca7-4047-8eae-f1355871eef9"
      },
      "source": [
        "data.DYRK1A_N.quantile(0.75) # it gives 75% of data"
      ],
      "execution_count": 73,
      "outputs": [
        {
          "output_type": "execute_result",
          "data": {
            "text/plain": [
              "0.487573789"
            ]
          },
          "metadata": {
            "tags": []
          },
          "execution_count": 73
        }
      ]
    },
    {
      "cell_type": "markdown",
      "metadata": {
        "id": "2WhRZ-qCzS6o",
        "colab_type": "text"
      },
      "source": [
        "it looks like normal distribution"
      ]
    },
    {
      "cell_type": "markdown",
      "metadata": {
        "id": "FPIcYYmaAxXx",
        "colab_type": "text"
      },
      "source": [
        "**we clearly see that lot of null values are present in the data**"
      ]
    },
    {
      "cell_type": "code",
      "metadata": {
        "id": "nq8c6HL3MY6N",
        "colab_type": "code",
        "colab": {
          "base_uri": "https://localhost:8080/",
          "height": 486
        },
        "outputId": "83a8a086-7337-49b8-aef3-188fd8c57906"
      },
      "source": [
        "plt.figure(figsize=(25,10))\n",
        "sns.set_style('whitegrid')\n",
        "sns.countplot(x='class',data=data)"
      ],
      "execution_count": 46,
      "outputs": [
        {
          "output_type": "execute_result",
          "data": {
            "text/plain": [
              "<matplotlib.axes._subplots.AxesSubplot at 0x7f0d48386550>"
            ]
          },
          "metadata": {
            "tags": []
          },
          "execution_count": 46
        },
        {
          "output_type": "display_data",
          "data": {
            "image/png": "[encoded data removed]",
            "text/plain": [
              "<Figure size 1800x720 with 1 Axes>"
            ]
          },
          "metadata": {
            "tags": []
          }
        }
      ]
    },
    {
      "cell_type": "markdown",
      "metadata": {
        "id": "TDzfdoK2A_Zl",
        "colab_type": "text"
      },
      "source": [
        "**So data is balanced data**"
      ]
    },
    {
      "cell_type": "code",
      "metadata": {
        "id": "7OLhoHB-uRgd",
        "colab_type": "code",
        "colab": {
          "base_uri": "https://localhost:8080/",
          "height": 414
        },
        "outputId": "a0c5b60d-3672-4394-cd35-17984781c402"
      },
      "source": [
        "plt.figure(figsize=(30,10))\n",
        "sns.boxplot(y=data['ITSN1_N'],x=data['class'])"
      ],
      "execution_count": 91,
      "outputs": [
        {
          "output_type": "execute_result",
          "data": {
            "text/plain": [
              "<matplotlib.axes._subplots.AxesSubplot at 0x7f0d457002e8>"
            ]
          },
          "metadata": {
            "tags": []
          },
          "execution_count": 91
        },
        {
          "output_type": "display_data",
          "data": {
            "image/png": "[encoded data removed]",
            "text/plain": [
              "<Figure size 2160x720 with 1 Axes>"
            ]
          },
          "metadata": {
            "tags": []
          }
        }
      ]
    },
    {
      "cell_type": "code",
      "metadata": {
        "id": "RWRh8IWaOqd2",
        "colab_type": "code",
        "colab": {
          "base_uri": "https://localhost:8080/",
          "height": 412
        },
        "outputId": "8d59a23a-cf75-4963-e548-7439ab9047bb"
      },
      "source": [
        "plt.figure(figsize=(30,10))\n",
        "sns.boxplot(y=data['DYRK1A_N'],x=data['class'])"
      ],
      "execution_count": 92,
      "outputs": [
        {
          "output_type": "execute_result",
          "data": {
            "text/plain": [
              "<matplotlib.axes._subplots.AxesSubplot at 0x7f0d43de2278>"
            ]
          },
          "metadata": {
            "tags": []
          },
          "execution_count": 92
        },
        {
          "output_type": "display_data",
          "data": {
            "image/png": "[encoded data removed]",
            "text/plain": [
              "<Figure size 2160x720 with 1 Axes>"
            ]
          },
          "metadata": {
            "tags": []
          }
        }
      ]
    },
    {
      "cell_type": "markdown",
      "metadata": {
        "id": "fth4CZYNBF-2",
        "colab_type": "text"
      },
      "source": [
        "**outlires are present in the some columns**"
      ]
    },
    {
      "cell_type": "code",
      "metadata": {
        "id": "UW71K7v6DprP",
        "colab_type": "code",
        "colab": {
          "base_uri": "https://localhost:8080/",
          "height": 487
        },
        "outputId": "973dc1dc-1af3-4c98-d2ae-ede757afdc90"
      },
      "source": [
        "plt.figure(figsize=(25,10))\n",
        "sns.scatterplot(x=\"class\", y=\"DYRK1A_N\", data=data)"
      ],
      "execution_count": 49,
      "outputs": [
        {
          "output_type": "execute_result",
          "data": {
            "text/plain": [
              "<matplotlib.axes._subplots.AxesSubplot at 0x7f0d48356dd8>"
            ]
          },
          "metadata": {
            "tags": []
          },
          "execution_count": 49
        },
        {
          "output_type": "display_data",
          "data": {
            "image/png": "[encoded data removed]",
            "text/plain": [
              "<Figure size 1800x720 with 1 Axes>"
            ]
          },
          "metadata": {
            "tags": []
          }
        }
      ]
    },
    {
      "cell_type": "markdown",
      "metadata": {
        "id": "RoN_L_hbPzeC",
        "colab_type": "text"
      },
      "source": [
        "from Graph based EDA we get following observation\n",
        "\n",
        "Given dataset contain lot of null values\n",
        "\n",
        "From countplot we understand this is balanced classification labels\n",
        "\n",
        "From boxplot we can easily identify outlires in the features\n"
      ]
    },
    {
      "cell_type": "markdown",
      "metadata": {
        "id": "FcZk4b_EpQqu",
        "colab_type": "text"
      },
      "source": [
        "**Clean Data**"
      ]
    },
    {
      "cell_type": "markdown",
      "metadata": {
        "id": "Q9FqKpsPRZ-_",
        "colab_type": "text"
      },
      "source": [
        "**1)   handle Null values**"
      ]
    },
    {
      "cell_type": "code",
      "metadata": {
        "id": "LOo1QeKyqb5c",
        "colab_type": "code",
        "colab": {}
      },
      "source": [
        "for i in range (0,len(null_list)-1):\n",
        "  data[null_list[i]]=data[null_list[i]].fillna(data[null_list[i]].mean())"
      ],
      "execution_count": 50,
      "outputs": []
    },
    {
      "cell_type": "code",
      "metadata": {
        "id": "WYwD3q6Nq007",
        "colab_type": "code",
        "colab": {
          "base_uri": "https://localhost:8080/",
          "height": 552
        },
        "outputId": "901afd37-9ed5-4155-fe90-661a033edb04"
      },
      "source": [
        "plt.figure(figsize=(25,10))\n",
        "sns.heatmap(data.isnull(),yticklabels=False,cbar=False)"
      ],
      "execution_count": 51,
      "outputs": [
        {
          "output_type": "execute_result",
          "data": {
            "text/plain": [
              "<matplotlib.axes._subplots.AxesSubplot at 0x7f0d4c72eeb8>"
            ]
          },
          "metadata": {
            "tags": []
          },
          "execution_count": 51
        },
        {
          "output_type": "display_data",
          "data": {
            "image/png": "[encoded data removed]",
            "text/plain": [
              "<Figure size 1800x720 with 1 Axes>"
            ]
          },
          "metadata": {
            "tags": []
          }
        }
      ]
    },
    {
      "cell_type": "code",
      "metadata": {
        "id": "cvGVIXmXrQlY",
        "colab_type": "code",
        "colab": {
          "base_uri": "https://localhost:8080/",
          "height": 35
        },
        "outputId": "7534ef36-747a-42b9-e2cd-18e9a7bec69d"
      },
      "source": [
        "data.isnull().any().sum() #inplace=True"
      ],
      "execution_count": 52,
      "outputs": [
        {
          "output_type": "execute_result",
          "data": {
            "text/plain": [
              "1"
            ]
          },
          "metadata": {
            "tags": []
          },
          "execution_count": 52
        }
      ]
    },
    {
      "cell_type": "code",
      "metadata": {
        "id": "IvBFHyowv7jZ",
        "colab_type": "code",
        "colab": {}
      },
      "source": [
        "data['H3MeK4_N']=data['H3MeK4_N'].fillna(data['H3MeK4_N'].mean())"
      ],
      "execution_count": 53,
      "outputs": []
    },
    {
      "cell_type": "code",
      "metadata": {
        "id": "fOp04jufsBiz",
        "colab_type": "code",
        "colab": {
          "base_uri": "https://localhost:8080/",
          "height": 552
        },
        "outputId": "cc984258-15e2-48c7-dff2-5d65cbee23b9"
      },
      "source": [
        "plt.figure(figsize=(25,10))\n",
        "sns.heatmap(data.isnull(),yticklabels=False,cbar=False)"
      ],
      "execution_count": 54,
      "outputs": [
        {
          "output_type": "execute_result",
          "data": {
            "text/plain": [
              "<matplotlib.axes._subplots.AxesSubplot at 0x7f0d481690b8>"
            ]
          },
          "metadata": {
            "tags": []
          },
          "execution_count": 54
        },
        {
          "output_type": "display_data",
          "data": {
            "image/png": "[encoded data removed]",
            "text/plain": [
              "<Figure size 1800x720 with 1 Axes>"
            ]
          },
          "metadata": {
            "tags": []
          }
        }
      ]
    },
    {
      "cell_type": "markdown",
      "metadata": {
        "id": "KNy6auUdsDtw",
        "colab_type": "text"
      },
      "source": [
        "finally we get clean data free from missing  values"
      ]
    },
    {
      "cell_type": "markdown",
      "metadata": {
        "id": "4tSq8AyS1jrP",
        "colab_type": "text"
      },
      "source": [
        "**2)   conversion of catogorical into integer using label-encoder**\n",
        "\n"
      ]
    },
    {
      "cell_type": "code",
      "metadata": {
        "id": "5jy9kMck1FLI",
        "colab_type": "code",
        "colab": {}
      },
      "source": [
        "from sklearn import preprocessing  \n",
        "label_encoder = preprocessing.LabelEncoder() \n",
        "data['MouseID']= label_encoder.fit_transform(data['MouseID']) \n",
        "data['Genotype']= label_encoder.fit_transform(data['Genotype']) \n",
        "data['Treatment']= label_encoder.fit_transform(data['Treatment']) \n",
        "data['Behavior']= label_encoder.fit_transform(data['Behavior'])   \n",
        "data['class']= label_encoder.fit_transform(data['class']) "
      ],
      "execution_count": 55,
      "outputs": []
    },
    {
      "cell_type": "code",
      "metadata": {
        "id": "x2Wo_mbs1Xpf",
        "colab_type": "code",
        "colab": {
          "base_uri": "https://localhost:8080/",
          "height": 235
        },
        "outputId": "208eaad3-7d89-4a05-96d5-0c2419a5e348"
      },
      "source": [
        "data['MouseID']"
      ],
      "execution_count": 56,
      "outputs": [
        {
          "output_type": "execute_result",
          "data": {
            "text/plain": [
              "0         45\n",
              "1         52\n",
              "2         53\n",
              "3         54\n",
              "4         55\n",
              "        ... \n",
              "1075    1067\n",
              "1076    1068\n",
              "1077    1069\n",
              "1078    1070\n",
              "1079    1071\n",
              "Name: MouseID, Length: 1080, dtype: int64"
            ]
          },
          "metadata": {
            "tags": []
          },
          "execution_count": 56
        }
      ]
    },
    {
      "cell_type": "code",
      "metadata": {
        "id": "nNJbwR872XNH",
        "colab_type": "code",
        "colab": {
          "base_uri": "https://localhost:8080/",
          "height": 35
        },
        "outputId": "e7844eaf-8039-4fca-c4bf-7ac244f4cd4a"
      },
      "source": [
        "data.shape"
      ],
      "execution_count": 58,
      "outputs": [
        {
          "output_type": "execute_result",
          "data": {
            "text/plain": [
              "(1080, 82)"
            ]
          },
          "metadata": {
            "tags": []
          },
          "execution_count": 58
        }
      ]
    },
    {
      "cell_type": "markdown",
      "metadata": {
        "id": "M7SrhQ76pC8v",
        "colab_type": "text"
      },
      "source": [
        "when we perform one hot encoding dataframe size changes to **1080*89** but in this using label encoder case it reduce to 1080 * 82 **1080*82**"
      ]
    },
    {
      "cell_type": "markdown",
      "metadata": {
        "id": "QxGbYxSjs7Wo",
        "colab_type": "text"
      },
      "source": [
        "**3)  handling outlire**"
      ]
    },
    {
      "cell_type": "code",
      "metadata": {
        "id": "Oaj3_00Aq54J",
        "colab_type": "code",
        "colab": {
          "base_uri": "https://localhost:8080/",
          "height": 487
        },
        "outputId": "c1fd8e73-29e7-43bf-bac5-d21885f176c7"
      },
      "source": [
        "plt.figure(figsize=(25,10))\n",
        "sns.scatterplot(x=\"class\", y=\"DYRK1A_N\", data=data)"
      ],
      "execution_count": 59,
      "outputs": [
        {
          "output_type": "execute_result",
          "data": {
            "text/plain": [
              "<matplotlib.axes._subplots.AxesSubplot at 0x7f0d480a59b0>"
            ]
          },
          "metadata": {
            "tags": []
          },
          "execution_count": 59
        },
        {
          "output_type": "display_data",
          "data": {
            "image/png": "[encoded data removed]",
            "text/plain": [
              "<Figure size 1800x720 with 1 Axes>"
            ]
          },
          "metadata": {
            "tags": []
          }
        }
      ]
    },
    {
      "cell_type": "code",
      "metadata": {
        "id": "bqsV7RFVq8hc",
        "colab_type": "code",
        "colab": {}
      },
      "source": [
        "from sklearn.preprocessing import MinMaxScaler\n",
        "norm = MinMaxScaler().fit(data)\n",
        "norm_data = norm.transform(data)"
      ],
      "execution_count": 60,
      "outputs": []
    },
    {
      "cell_type": "code",
      "metadata": {
        "id": "sVQq10GY9SAn",
        "colab_type": "code",
        "colab": {}
      },
      "source": [
        "from sklearn.preprocessing import StandardScaler\n",
        "scale = StandardScaler().fit(data)\n",
        "scale_data = scale.transform(data)"
      ],
      "execution_count": 74,
      "outputs": []
    },
    {
      "cell_type": "code",
      "metadata": {
        "id": "vAnkog0LuuVg",
        "colab_type": "code",
        "colab": {}
      },
      "source": [
        "#class pandas.DataFrame(data=None, index=None, columns=None, dtype=None, copy=False)\n",
        "new_data = pd.DataFrame(data=norm_data,columns=data.columns)\n",
        "scale_data = pd.DataFrame(data=scale_data,columns=data.columns)\n"
      ],
      "execution_count": 75,
      "outputs": []
    },
    {
      "cell_type": "code",
      "metadata": {
        "id": "kNeZhA5xrsvl",
        "colab_type": "code",
        "colab": {
          "base_uri": "https://localhost:8080/",
          "height": 255
        },
        "outputId": "f4d12c03-c14b-4ad0-ae23-2f81c37f3e12"
      },
      "source": [
        "new_data.head()"
      ],
      "execution_count": 64,
      "outputs": [
        {
          "output_type": "execute_result",
          "data": {
            "text/html": [
              "<div>\n",
              "<style scoped>\n",
              "    .dataframe tbody tr th:only-of-type {\n",
              "        vertical-align: middle;\n",
              "    }\n",
              "\n",
              "    .dataframe tbody tr th {\n",
              "        vertical-align: top;\n",
              "    }\n",
              "\n",
              "    .dataframe thead th {\n",
              "        text-align: right;\n",
              "    }\n",
              "</style>\n",
              "<table border=\"1\" class=\"dataframe\">\n",
              "  <thead>\n",
              "    <tr style=\"text-align: right;\">\n",
              "      <th></th>\n",
              "      <th>MouseID</th>\n",
              "      <th>DYRK1A_N</th>\n",
              "      <th>ITSN1_N</th>\n",
              "      <th>BDNF_N</th>\n",
              "      <th>NR1_N</th>\n",
              "      <th>NR2A_N</th>\n",
              "      <th>pAKT_N</th>\n",
              "      <th>pBRAF_N</th>\n",
              "      <th>pCAMKII_N</th>\n",
              "      <th>pCREB_N</th>\n",
              "      <th>pELK_N</th>\n",
              "      <th>pERK_N</th>\n",
              "      <th>pJNK_N</th>\n",
              "      <th>PKCA_N</th>\n",
              "      <th>pMEK_N</th>\n",
              "      <th>pNR1_N</th>\n",
              "      <th>pNR2A_N</th>\n",
              "      <th>pNR2B_N</th>\n",
              "      <th>pPKCAB_N</th>\n",
              "      <th>pRSK_N</th>\n",
              "      <th>AKT_N</th>\n",
              "      <th>BRAF_N</th>\n",
              "      <th>CAMKII_N</th>\n",
              "      <th>CREB_N</th>\n",
              "      <th>ELK_N</th>\n",
              "      <th>ERK_N</th>\n",
              "      <th>GSK3B_N</th>\n",
              "      <th>JNK_N</th>\n",
              "      <th>MEK_N</th>\n",
              "      <th>TRKA_N</th>\n",
              "      <th>RSK_N</th>\n",
              "      <th>APP_N</th>\n",
              "      <th>Bcatenin_N</th>\n",
              "      <th>SOD1_N</th>\n",
              "      <th>MTOR_N</th>\n",
              "      <th>P38_N</th>\n",
              "      <th>pMTOR_N</th>\n",
              "      <th>DSCR1_N</th>\n",
              "      <th>AMPKA_N</th>\n",
              "      <th>NR2B_N</th>\n",
              "      <th>...</th>\n",
              "      <th>TIAM1_N</th>\n",
              "      <th>pP70S6_N</th>\n",
              "      <th>NUMB_N</th>\n",
              "      <th>P70S6_N</th>\n",
              "      <th>pGSK3B_N</th>\n",
              "      <th>pPKCG_N</th>\n",
              "      <th>CDK5_N</th>\n",
              "      <th>S6_N</th>\n",
              "      <th>ADARB1_N</th>\n",
              "      <th>AcetylH3K9_N</th>\n",
              "      <th>RRP1_N</th>\n",
              "      <th>BAX_N</th>\n",
              "      <th>ARC_N</th>\n",
              "      <th>ERBB4_N</th>\n",
              "      <th>nNOS_N</th>\n",
              "      <th>Tau_N</th>\n",
              "      <th>GFAP_N</th>\n",
              "      <th>GluR3_N</th>\n",
              "      <th>GluR4_N</th>\n",
              "      <th>IL1B_N</th>\n",
              "      <th>P3525_N</th>\n",
              "      <th>pCASP9_N</th>\n",
              "      <th>PSD95_N</th>\n",
              "      <th>SNCA_N</th>\n",
              "      <th>Ubiquitin_N</th>\n",
              "      <th>pGSK3B_Tyr216_N</th>\n",
              "      <th>SHH_N</th>\n",
              "      <th>BAD_N</th>\n",
              "      <th>BCL2_N</th>\n",
              "      <th>pS6_N</th>\n",
              "      <th>pCFOS_N</th>\n",
              "      <th>SYP_N</th>\n",
              "      <th>H3AcK18_N</th>\n",
              "      <th>EGR1_N</th>\n",
              "      <th>H3MeK4_N</th>\n",
              "      <th>CaNA_N</th>\n",
              "      <th>Genotype</th>\n",
              "      <th>Treatment</th>\n",
              "      <th>Behavior</th>\n",
              "      <th>class</th>\n",
              "    </tr>\n",
              "  </thead>\n",
              "  <tbody>\n",
              "    <tr>\n",
              "      <th>0</th>\n",
              "      <td>0.041705</td>\n",
              "      <td>0.151122</td>\n",
              "      <td>0.212885</td>\n",
              "      <td>0.824638</td>\n",
              "      <td>0.612119</td>\n",
              "      <td>0.630482</td>\n",
              "      <td>0.327006</td>\n",
              "      <td>0.448666</td>\n",
              "      <td>0.168257</td>\n",
              "      <td>0.617322</td>\n",
              "      <td>0.232553</td>\n",
              "      <td>0.157643</td>\n",
              "      <td>0.576167</td>\n",
              "      <td>0.747688</td>\n",
              "      <td>0.598504</td>\n",
              "      <td>0.574775</td>\n",
              "      <td>0.286697</td>\n",
              "      <td>0.650637</td>\n",
              "      <td>0.698164</td>\n",
              "      <td>0.622784</td>\n",
              "      <td>0.711198</td>\n",
              "      <td>0.136915</td>\n",
              "      <td>0.419649</td>\n",
              "      <td>0.317149</td>\n",
              "      <td>0.593715</td>\n",
              "      <td>0.627907</td>\n",
              "      <td>0.596269</td>\n",
              "      <td>0.640167</td>\n",
              "      <td>0.643070</td>\n",
              "      <td>0.766146</td>\n",
              "      <td>0.295596</td>\n",
              "      <td>0.549817</td>\n",
              "      <td>0.747441</td>\n",
              "      <td>0.092035</td>\n",
              "      <td>0.541196</td>\n",
              "      <td>0.152338</td>\n",
              "      <td>0.687269</td>\n",
              "      <td>0.553922</td>\n",
              "      <td>0.467278</td>\n",
              "      <td>0.509996</td>\n",
              "      <td>...</td>\n",
              "      <td>0.506018</td>\n",
              "      <td>0.163368</td>\n",
              "      <td>0.323059</td>\n",
              "      <td>0.373254</td>\n",
              "      <td>0.604516</td>\n",
              "      <td>0.303363</td>\n",
              "      <td>0.178458</td>\n",
              "      <td>0.324085</td>\n",
              "      <td>0.402810</td>\n",
              "      <td>0.083584</td>\n",
              "      <td>0.327870</td>\n",
              "      <td>0.690257</td>\n",
              "      <td>0.426816</td>\n",
              "      <td>0.412721</td>\n",
              "      <td>0.477834</td>\n",
              "      <td>0.057168</td>\n",
              "      <td>0.228825</td>\n",
              "      <td>0.531163</td>\n",
              "      <td>0.151103</td>\n",
              "      <td>0.242608</td>\n",
              "      <td>0.169702</td>\n",
              "      <td>0.432843</td>\n",
              "      <td>0.483783</td>\n",
              "      <td>0.044770</td>\n",
              "      <td>0.256699</td>\n",
              "      <td>0.405228</td>\n",
              "      <td>0.162941</td>\n",
              "      <td>0.177312</td>\n",
              "      <td>0.299172</td>\n",
              "      <td>0.426816</td>\n",
              "      <td>0.133930</td>\n",
              "      <td>0.336299</td>\n",
              "      <td>0.087715</td>\n",
              "      <td>0.102890</td>\n",
              "      <td>0.084580</td>\n",
              "      <td>0.705738</td>\n",
              "      <td>0.0</td>\n",
              "      <td>0.0</td>\n",
              "      <td>0.0</td>\n",
              "      <td>0.0</td>\n",
              "    </tr>\n",
              "    <tr>\n",
              "      <th>1</th>\n",
              "      <td>0.048193</td>\n",
              "      <td>0.155750</td>\n",
              "      <td>0.188226</td>\n",
              "      <td>0.776455</td>\n",
              "      <td>0.601070</td>\n",
              "      <td>0.585247</td>\n",
              "      <td>0.311887</td>\n",
              "      <td>0.429899</td>\n",
              "      <td>0.154925</td>\n",
              "      <td>0.590173</td>\n",
              "      <td>0.205362</td>\n",
              "      <td>0.159721</td>\n",
              "      <td>0.559556</td>\n",
              "      <td>0.688545</td>\n",
              "      <td>0.559598</td>\n",
              "      <td>0.502766</td>\n",
              "      <td>0.270688</td>\n",
              "      <td>0.587926</td>\n",
              "      <td>0.591606</td>\n",
              "      <td>0.629311</td>\n",
              "      <td>0.689095</td>\n",
              "      <td>0.128911</td>\n",
              "      <td>0.383669</td>\n",
              "      <td>0.291583</td>\n",
              "      <td>0.548032</td>\n",
              "      <td>0.578736</td>\n",
              "      <td>0.584234</td>\n",
              "      <td>0.614355</td>\n",
              "      <td>0.586180</td>\n",
              "      <td>0.724593</td>\n",
              "      <td>0.251840</td>\n",
              "      <td>0.491969</td>\n",
              "      <td>0.701976</td>\n",
              "      <td>0.075589</td>\n",
              "      <td>0.467650</td>\n",
              "      <td>0.137451</td>\n",
              "      <td>0.621033</td>\n",
              "      <td>0.512117</td>\n",
              "      <td>0.409897</td>\n",
              "      <td>0.457694</td>\n",
              "      <td>...</td>\n",
              "      <td>0.447496</td>\n",
              "      <td>0.145594</td>\n",
              "      <td>0.322736</td>\n",
              "      <td>0.376914</td>\n",
              "      <td>0.618918</td>\n",
              "      <td>0.302059</td>\n",
              "      <td>0.177452</td>\n",
              "      <td>0.324004</td>\n",
              "      <td>0.386524</td>\n",
              "      <td>0.084514</td>\n",
              "      <td>0.326426</td>\n",
              "      <td>0.664894</td>\n",
              "      <td>0.429952</td>\n",
              "      <td>0.463251</td>\n",
              "      <td>0.488028</td>\n",
              "      <td>0.075103</td>\n",
              "      <td>0.251911</td>\n",
              "      <td>0.576828</td>\n",
              "      <td>0.149555</td>\n",
              "      <td>0.285860</td>\n",
              "      <td>0.212421</td>\n",
              "      <td>0.472327</td>\n",
              "      <td>0.477640</td>\n",
              "      <td>0.054452</td>\n",
              "      <td>0.226088</td>\n",
              "      <td>0.433471</td>\n",
              "      <td>0.220010</td>\n",
              "      <td>0.146494</td>\n",
              "      <td>0.299172</td>\n",
              "      <td>0.429952</td>\n",
              "      <td>0.110434</td>\n",
              "      <td>0.365208</td>\n",
              "      <td>0.080692</td>\n",
              "      <td>0.115874</td>\n",
              "      <td>0.093977</td>\n",
              "      <td>0.749771</td>\n",
              "      <td>0.0</td>\n",
              "      <td>0.0</td>\n",
              "      <td>0.0</td>\n",
              "      <td>0.0</td>\n",
              "    </tr>\n",
              "    <tr>\n",
              "      <th>2</th>\n",
              "      <td>0.049120</td>\n",
              "      <td>0.153459</td>\n",
              "      <td>0.205696</td>\n",
              "      <td>0.793572</td>\n",
              "      <td>0.558911</td>\n",
              "      <td>0.575910</td>\n",
              "      <td>0.306369</td>\n",
              "      <td>0.441381</td>\n",
              "      <td>0.153485</td>\n",
              "      <td>0.607102</td>\n",
              "      <td>0.199194</td>\n",
              "      <td>0.154554</td>\n",
              "      <td>0.541938</td>\n",
              "      <td>0.670905</td>\n",
              "      <td>0.560573</td>\n",
              "      <td>0.554483</td>\n",
              "      <td>0.283848</td>\n",
              "      <td>0.590443</td>\n",
              "      <td>0.581558</td>\n",
              "      <td>0.669753</td>\n",
              "      <td>0.670907</td>\n",
              "      <td>0.128651</td>\n",
              "      <td>0.415579</td>\n",
              "      <td>0.292676</td>\n",
              "      <td>0.549983</td>\n",
              "      <td>0.599925</td>\n",
              "      <td>0.580790</td>\n",
              "      <td>0.625756</td>\n",
              "      <td>0.613502</td>\n",
              "      <td>0.730384</td>\n",
              "      <td>0.270560</td>\n",
              "      <td>0.472444</td>\n",
              "      <td>0.710718</td>\n",
              "      <td>0.076445</td>\n",
              "      <td>0.470688</td>\n",
              "      <td>0.137475</td>\n",
              "      <td>0.616142</td>\n",
              "      <td>0.510175</td>\n",
              "      <td>0.375653</td>\n",
              "      <td>0.467725</td>\n",
              "      <td>...</td>\n",
              "      <td>0.432379</td>\n",
              "      <td>0.125773</td>\n",
              "      <td>0.334325</td>\n",
              "      <td>0.383316</td>\n",
              "      <td>0.657565</td>\n",
              "      <td>0.332565</td>\n",
              "      <td>0.189744</td>\n",
              "      <td>0.369553</td>\n",
              "      <td>0.373234</td>\n",
              "      <td>0.094486</td>\n",
              "      <td>0.312439</td>\n",
              "      <td>0.700212</td>\n",
              "      <td>0.448652</td>\n",
              "      <td>0.415863</td>\n",
              "      <td>0.475009</td>\n",
              "      <td>0.071718</td>\n",
              "      <td>0.248192</td>\n",
              "      <td>0.607535</td>\n",
              "      <td>0.150434</td>\n",
              "      <td>0.373879</td>\n",
              "      <td>0.202733</td>\n",
              "      <td>0.467603</td>\n",
              "      <td>0.484953</td>\n",
              "      <td>0.044526</td>\n",
              "      <td>0.214719</td>\n",
              "      <td>0.429387</td>\n",
              "      <td>0.186816</td>\n",
              "      <td>0.155920</td>\n",
              "      <td>0.299172</td>\n",
              "      <td>0.448652</td>\n",
              "      <td>0.121560</td>\n",
              "      <td>0.353621</td>\n",
              "      <td>0.080465</td>\n",
              "      <td>0.109050</td>\n",
              "      <td>0.082162</td>\n",
              "      <td>0.868229</td>\n",
              "      <td>0.0</td>\n",
              "      <td>0.0</td>\n",
              "      <td>0.0</td>\n",
              "      <td>0.0</td>\n",
              "    </tr>\n",
              "    <tr>\n",
              "      <th>3</th>\n",
              "      <td>0.050046</td>\n",
              "      <td>0.125169</td>\n",
              "      <td>0.157688</td>\n",
              "      <td>0.637326</td>\n",
              "      <td>0.468152</td>\n",
              "      <td>0.480646</td>\n",
              "      <td>0.335530</td>\n",
              "      <td>0.444307</td>\n",
              "      <td>0.132074</td>\n",
              "      <td>0.486945</td>\n",
              "      <td>0.205135</td>\n",
              "      <td>0.127028</td>\n",
              "      <td>0.554293</td>\n",
              "      <td>0.657048</td>\n",
              "      <td>0.640641</td>\n",
              "      <td>0.413245</td>\n",
              "      <td>0.211238</td>\n",
              "      <td>0.522319</td>\n",
              "      <td>0.627585</td>\n",
              "      <td>0.687775</td>\n",
              "      <td>0.593408</td>\n",
              "      <td>0.121509</td>\n",
              "      <td>0.401866</td>\n",
              "      <td>0.319599</td>\n",
              "      <td>0.342080</td>\n",
              "      <td>0.452058</td>\n",
              "      <td>0.545716</td>\n",
              "      <td>0.625528</td>\n",
              "      <td>0.492220</td>\n",
              "      <td>0.667283</td>\n",
              "      <td>0.277208</td>\n",
              "      <td>0.440780</td>\n",
              "      <td>0.536330</td>\n",
              "      <td>0.076936</td>\n",
              "      <td>0.479533</td>\n",
              "      <td>0.144945</td>\n",
              "      <td>0.605654</td>\n",
              "      <td>0.514305</td>\n",
              "      <td>0.338199</td>\n",
              "      <td>0.461189</td>\n",
              "      <td>...</td>\n",
              "      <td>0.422989</td>\n",
              "      <td>0.267936</td>\n",
              "      <td>0.220414</td>\n",
              "      <td>0.311501</td>\n",
              "      <td>0.549444</td>\n",
              "      <td>0.364189</td>\n",
              "      <td>0.181101</td>\n",
              "      <td>0.231762</td>\n",
              "      <td>0.333033</td>\n",
              "      <td>0.076248</td>\n",
              "      <td>0.338264</td>\n",
              "      <td>0.669358</td>\n",
              "      <td>0.392700</td>\n",
              "      <td>0.372772</td>\n",
              "      <td>0.397939</td>\n",
              "      <td>0.053257</td>\n",
              "      <td>0.245676</td>\n",
              "      <td>0.562594</td>\n",
              "      <td>0.156083</td>\n",
              "      <td>0.242672</td>\n",
              "      <td>0.184790</td>\n",
              "      <td>0.364359</td>\n",
              "      <td>0.449304</td>\n",
              "      <td>0.119259</td>\n",
              "      <td>0.208943</td>\n",
              "      <td>0.407971</td>\n",
              "      <td>0.179047</td>\n",
              "      <td>0.229602</td>\n",
              "      <td>0.299172</td>\n",
              "      <td>0.392700</td>\n",
              "      <td>0.151031</td>\n",
              "      <td>0.265619</td>\n",
              "      <td>0.126763</td>\n",
              "      <td>0.164241</td>\n",
              "      <td>0.144543</td>\n",
              "      <td>0.721879</td>\n",
              "      <td>0.0</td>\n",
              "      <td>0.0</td>\n",
              "      <td>0.0</td>\n",
              "      <td>0.0</td>\n",
              "    </tr>\n",
              "    <tr>\n",
              "      <th>4</th>\n",
              "      <td>0.050973</td>\n",
              "      <td>0.122146</td>\n",
              "      <td>0.157838</td>\n",
              "      <td>0.637787</td>\n",
              "      <td>0.426467</td>\n",
              "      <td>0.441977</td>\n",
              "      <td>0.314976</td>\n",
              "      <td>0.433100</td>\n",
              "      <td>0.129086</td>\n",
              "      <td>0.410194</td>\n",
              "      <td>0.189152</td>\n",
              "      <td>0.117572</td>\n",
              "      <td>0.532161</td>\n",
              "      <td>0.608970</td>\n",
              "      <td>0.551236</td>\n",
              "      <td>0.401706</td>\n",
              "      <td>0.200364</td>\n",
              "      <td>0.486489</td>\n",
              "      <td>0.579839</td>\n",
              "      <td>0.698127</td>\n",
              "      <td>0.557701</td>\n",
              "      <td>0.112407</td>\n",
              "      <td>0.381348</td>\n",
              "      <td>0.297196</td>\n",
              "      <td>0.358746</td>\n",
              "      <td>0.433909</td>\n",
              "      <td>0.519977</td>\n",
              "      <td>0.599623</td>\n",
              "      <td>0.471524</td>\n",
              "      <td>0.627685</td>\n",
              "      <td>0.239874</td>\n",
              "      <td>0.410395</td>\n",
              "      <td>0.519186</td>\n",
              "      <td>0.067645</td>\n",
              "      <td>0.436522</td>\n",
              "      <td>0.121261</td>\n",
              "      <td>0.548237</td>\n",
              "      <td>0.501294</td>\n",
              "      <td>0.283304</td>\n",
              "      <td>0.416698</td>\n",
              "      <td>...</td>\n",
              "      <td>0.374357</td>\n",
              "      <td>0.262839</td>\n",
              "      <td>0.212521</td>\n",
              "      <td>0.317400</td>\n",
              "      <td>0.559551</td>\n",
              "      <td>0.376199</td>\n",
              "      <td>0.181805</td>\n",
              "      <td>0.258720</td>\n",
              "      <td>0.337126</td>\n",
              "      <td>0.079697</td>\n",
              "      <td>0.330219</td>\n",
              "      <td>0.686524</td>\n",
              "      <td>0.410187</td>\n",
              "      <td>0.385008</td>\n",
              "      <td>0.422195</td>\n",
              "      <td>0.080162</td>\n",
              "      <td>0.234762</td>\n",
              "      <td>0.656300</td>\n",
              "      <td>0.147044</td>\n",
              "      <td>0.325597</td>\n",
              "      <td>0.187625</td>\n",
              "      <td>0.393332</td>\n",
              "      <td>0.480334</td>\n",
              "      <td>0.116965</td>\n",
              "      <td>0.215528</td>\n",
              "      <td>0.480342</td>\n",
              "      <td>0.245702</td>\n",
              "      <td>0.215008</td>\n",
              "      <td>0.299172</td>\n",
              "      <td>0.410187</td>\n",
              "      <td>0.147711</td>\n",
              "      <td>0.350381</td>\n",
              "      <td>0.096959</td>\n",
              "      <td>0.136298</td>\n",
              "      <td>0.149281</td>\n",
              "      <td>0.812053</td>\n",
              "      <td>0.0</td>\n",
              "      <td>0.0</td>\n",
              "      <td>0.0</td>\n",
              "      <td>0.0</td>\n",
              "    </tr>\n",
              "  </tbody>\n",
              "</table>\n",
              "<p>5 rows × 82 columns</p>\n",
              "</div>"
            ],
            "text/plain": [
              "    MouseID  DYRK1A_N   ITSN1_N    BDNF_N  ...  Genotype  Treatment  Behavior  class\n",
              "0  0.041705  0.151122  0.212885  0.824638  ...       0.0        0.0       0.0    0.0\n",
              "1  0.048193  0.155750  0.188226  0.776455  ...       0.0        0.0       0.0    0.0\n",
              "2  0.049120  0.153459  0.205696  0.793572  ...       0.0        0.0       0.0    0.0\n",
              "3  0.050046  0.125169  0.157688  0.637326  ...       0.0        0.0       0.0    0.0\n",
              "4  0.050973  0.122146  0.157838  0.637787  ...       0.0        0.0       0.0    0.0\n",
              "\n",
              "[5 rows x 82 columns]"
            ]
          },
          "metadata": {
            "tags": []
          },
          "execution_count": 64
        }
      ]
    },
    {
      "cell_type": "code",
      "metadata": {
        "id": "pdy-mNCKsUmA",
        "colab_type": "code",
        "colab": {
          "base_uri": "https://localhost:8080/",
          "height": 487
        },
        "outputId": "a05d1923-6e92-499e-a505-bc5cde6b985e"
      },
      "source": [
        "plt.figure(figsize=(25,10))\n",
        "sns.boxplot(y=new_data['DYRK1A_N'],x=new_data['class'])\n"
      ],
      "execution_count": 97,
      "outputs": [
        {
          "output_type": "execute_result",
          "data": {
            "text/plain": [
              "<matplotlib.axes._subplots.AxesSubplot at 0x7f0d4385b0f0>"
            ]
          },
          "metadata": {
            "tags": []
          },
          "execution_count": 97
        },
        {
          "output_type": "display_data",
          "data": {
            "image/png": "[encoded data removed]",
            "text/plain": [
              "<Figure size 1800x720 with 1 Axes>"
            ]
          },
          "metadata": {
            "tags": []
          }
        }
      ]
    },
    {
      "cell_type": "code",
      "metadata": {
        "id": "jwBHsbXL9o-r",
        "colab_type": "code",
        "colab": {
          "base_uri": "https://localhost:8080/",
          "height": 490
        },
        "outputId": "83b5d53f-f781-43a9-bcce-96a545816256"
      },
      "source": [
        "plt.figure(figsize=(25,10))\n",
        "sns.boxplot(y=scale_data['DYRK1A_N'],x=scale_data['class'])"
      ],
      "execution_count": 76,
      "outputs": [
        {
          "output_type": "execute_result",
          "data": {
            "text/plain": [
              "<matplotlib.axes._subplots.AxesSubplot at 0x7f0d45dec2e8>"
            ]
          },
          "metadata": {
            "tags": []
          },
          "execution_count": 76
        },
        {
          "output_type": "display_data",
          "data": {
            "image/png": "[encoded data removed]",
            "text/plain": [
              "<Figure size 1800x720 with 1 Axes>"
            ]
          },
          "metadata": {
            "tags": []
          }
        }
      ]
    },
    {
      "cell_type": "markdown",
      "metadata": {
        "id": "KFvHGMs89CRs",
        "colab_type": "text"
      },
      "source": [
        "tried to normalize the data but it didint work "
      ]
    },
    {
      "cell_type": "code",
      "metadata": {
        "id": "LUJsnhArDLHP",
        "colab_type": "code",
        "colab": {
          "base_uri": "https://localhost:8080/",
          "height": 487
        },
        "outputId": "bcb3ed01-8b34-448d-e2a5-76988a90bb7e"
      },
      "source": [
        "plt.figure(figsize=(25,10))\n",
        "sns.scatterplot(x=\"class\", y=\"DYRK1A_N\", data=data)"
      ],
      "execution_count": 66,
      "outputs": [
        {
          "output_type": "execute_result",
          "data": {
            "text/plain": [
              "<matplotlib.axes._subplots.AxesSubplot at 0x7f0d45f36fd0>"
            ]
          },
          "metadata": {
            "tags": []
          },
          "execution_count": 66
        },
        {
          "output_type": "display_data",
          "data": {
            "image/png": "[encoded data removed]",
            "text/plain": [
              "<Figure size 1800x720 with 1 Axes>"
            ]
          },
          "metadata": {
            "tags": []
          }
        }
      ]
    },
    {
      "cell_type": "code",
      "metadata": {
        "id": "FuWEr3FB_Um_",
        "colab_type": "code",
        "colab": {
          "base_uri": "https://localhost:8080/",
          "height": 90
        },
        "outputId": "832e9de2-9f64-4f10-e274-924c822d2d5f"
      },
      "source": [
        "uppper_boundary=data['DYRK1A_N'].mean() + 3* data['DYRK1A_N'].std()\n",
        "lower_boundary=data['DYRK1A_N'].mean() - 3* data['DYRK1A_N'].std()\n",
        "print(lower_boundary), print(uppper_boundary),print(data['DYRK1A_N'].mean())"
      ],
      "execution_count": 77,
      "outputs": [
        {
          "output_type": "stream",
          "text": [
            "-0.32123503263406994\n",
            "1.1728553584539414\n",
            "0.4258101629099357\n"
          ],
          "name": "stdout"
        },
        {
          "output_type": "execute_result",
          "data": {
            "text/plain": [
              "(None, None, None)"
            ]
          },
          "metadata": {
            "tags": []
          },
          "execution_count": 77
        }
      ]
    },
    {
      "cell_type": "code",
      "metadata": {
        "id": "lgmNjAos_47Z",
        "colab_type": "code",
        "colab": {
          "base_uri": "https://localhost:8080/",
          "height": 181
        },
        "outputId": "4b716bd1-9d39-4764-d49e-97cc31c7ee53"
      },
      "source": [
        "data.DYRK1A_N.describe()"
      ],
      "execution_count": 79,
      "outputs": [
        {
          "output_type": "execute_result",
          "data": {
            "text/plain": [
              "count    1080.000000\n",
              "mean        0.425810\n",
              "std         0.249015\n",
              "min         0.145327\n",
              "25%         0.288163\n",
              "50%         0.366540\n",
              "75%         0.487574\n",
              "max         2.516367\n",
              "Name: DYRK1A_N, dtype: float64"
            ]
          },
          "metadata": {
            "tags": []
          },
          "execution_count": 79
        }
      ]
    },
    {
      "cell_type": "code",
      "metadata": {
        "id": "qLYLOgaH_zTR",
        "colab_type": "code",
        "colab": {
          "base_uri": "https://localhost:8080/",
          "height": 35
        },
        "outputId": "286e60e1-49ab-48ce-c4fd-3f9705279740"
      },
      "source": [
        "data.DYRK1A_N.quantile(0.75) # it gives 75% of data"
      ],
      "execution_count": 78,
      "outputs": [
        {
          "output_type": "execute_result",
          "data": {
            "text/plain": [
              "0.487573789"
            ]
          },
          "metadata": {
            "tags": []
          },
          "execution_count": 78
        }
      ]
    },
    {
      "cell_type": "code",
      "metadata": {
        "id": "5RnJ5DzfBdoB",
        "colab_type": "code",
        "colab": {
          "base_uri": "https://localhost:8080/",
          "height": 35
        },
        "outputId": "57451f2a-a49d-4054-e99b-b9c190f4627d"
      },
      "source": [
        "data[data.columns[1]].quantile(0.75)"
      ],
      "execution_count": 108,
      "outputs": [
        {
          "output_type": "execute_result",
          "data": {
            "text/plain": [
              "0.487711387"
            ]
          },
          "metadata": {
            "tags": []
          },
          "execution_count": 108
        }
      ]
    },
    {
      "cell_type": "markdown",
      "metadata": {
        "id": "PvnIXVWHC42Y",
        "colab_type": "text"
      },
      "source": [
        "we use quantile function to handle outlires"
      ]
    },
    {
      "cell_type": "code",
      "metadata": {
        "id": "bUJ1GfjGB7ca",
        "colab_type": "code",
        "colab": {}
      },
      "source": [
        "for i in range(1,len(data.columns)-5):\n",
        "  #data[data.columns[1]].quantile(0.75)\n",
        "  qvalue=data[data.columns[i]].quantile(0.75)\n",
        "  #print(qvalue.round(2))\n",
        "  IQR=data[data.columns[i]].quantile(0.75)-data[data.columns[i]].quantile(0.25)\n",
        "  upper_bridge=data[data.columns[i]].quantile(0.75)+(IQR*1.5)\n",
        "  #print(upper_bridge.round(2))\n",
        "  #data.loc[data['DYRK1A_N']>=0.78,'DYRK1A_N']=0.78\n",
        "  data.loc[data[data.columns[i]]>=upper_bridge.round(2),data.columns[i]]=upper_bridge.round(2)\n"
      ],
      "execution_count": 121,
      "outputs": []
    },
    {
      "cell_type": "code",
      "metadata": {
        "id": "EqEma-p6_-cY",
        "colab_type": "code",
        "colab": {
          "base_uri": "https://localhost:8080/",
          "height": 72
        },
        "outputId": "c11057fc-3b3b-45ea-af2d-03aa715c93ef"
      },
      "source": [
        "IQR=data.DYRK1A_N.quantile(0.75)-data.DYRK1A_N.quantile(0.25)\n",
        "lower_bridge=data['DYRK1A_N'].quantile(0.25)-(IQR*1.5)\n",
        "upper_bridge=data['DYRK1A_N'].quantile(0.75)+(IQR*1.5)\n",
        "print(lower_bridge), print(upper_bridge)"
      ],
      "execution_count": 107,
      "outputs": [
        {
          "output_type": "stream",
          "text": [
            "-0.011265017999999904\n",
            "0.7870972299999999\n"
          ],
          "name": "stdout"
        },
        {
          "output_type": "execute_result",
          "data": {
            "text/plain": [
              "(None, None)"
            ]
          },
          "metadata": {
            "tags": []
          },
          "execution_count": 107
        }
      ]
    },
    {
      "cell_type": "code",
      "metadata": {
        "id": "y094RAKj_m2I",
        "colab_type": "code",
        "colab": {}
      },
      "source": [
        "data.loc[data['DYRK1A_N']>=0.78,'DYRK1A_N']=0.78"
      ],
      "execution_count": 113,
      "outputs": []
    },
    {
      "cell_type": "code",
      "metadata": {
        "id": "iZI4YtC-A7g4",
        "colab_type": "code",
        "colab": {
          "base_uri": "https://localhost:8080/",
          "height": 487
        },
        "outputId": "f9944e01-502d-4135-9d53-0e2387ee0a34"
      },
      "source": [
        "plt.figure(figsize=(25,10))\n",
        "sns.boxplot(y=data['DYRK1A_N'],x=data['class'])"
      ],
      "execution_count": 122,
      "outputs": [
        {
          "output_type": "execute_result",
          "data": {
            "text/plain": [
              "<matplotlib.axes._subplots.AxesSubplot at 0x7f0d437bb588>"
            ]
          },
          "metadata": {
            "tags": []
          },
          "execution_count": 122
        },
        {
          "output_type": "display_data",
          "data": {
            "image/png": "[encoded data removed]",
            "text/plain": [
              "<Figure size 1800x720 with 1 Axes>"
            ]
          },
          "metadata": {
            "tags": []
          }
        }
      ]
    },
    {
      "cell_type": "code",
      "metadata": {
        "id": "w9stRX0uAtFp",
        "colab_type": "code",
        "colab": {}
      },
      "source": [
        ""
      ],
      "execution_count": null,
      "outputs": []
    },
    {
      "cell_type": "code",
      "metadata": {
        "id": "Srp3x7r8tI62",
        "colab_type": "code",
        "colab": {}
      },
      "source": [
        "z = np.abs(stats.zscore(data1))\n",
        "print(z)"
      ],
      "execution_count": null,
      "outputs": []
    },
    {
      "cell_type": "code",
      "metadata": {
        "id": "BHXHh8ke2wFE",
        "colab_type": "code",
        "colab": {}
      },
      "source": [
        "threshold = 3\n",
        "print(np.where(z > 3))"
      ],
      "execution_count": null,
      "outputs": []
    },
    {
      "cell_type": "code",
      "metadata": {
        "id": "1Wubagwr3Cfc",
        "colab_type": "code",
        "colab": {}
      },
      "source": [
        "data2=data1[(z < 4).all(axis=1)]"
      ],
      "execution_count": null,
      "outputs": []
    },
    {
      "cell_type": "markdown",
      "metadata": {
        "id": "qJviI7sLUtrs",
        "colab_type": "text"
      },
      "source": [
        "after removing outlire data rows reduce to 1080 to 957"
      ]
    },
    {
      "cell_type": "code",
      "metadata": {
        "id": "zuj9gMpm3LD8",
        "colab_type": "code",
        "colab": {}
      },
      "source": [
        "data2.shape"
      ],
      "execution_count": null,
      "outputs": []
    },
    {
      "cell_type": "markdown",
      "metadata": {
        "id": "YdnnbBbiTtxp",
        "colab_type": "text"
      },
      "source": [
        "**Graph based EDA after data cleaning**"
      ]
    },
    {
      "cell_type": "markdown",
      "metadata": {
        "id": "ExsS_NvNT60O",
        "colab_type": "text"
      },
      "source": [
        "before"
      ]
    },
    {
      "cell_type": "code",
      "metadata": {
        "id": "SKz63G2nT0g2",
        "colab_type": "code",
        "colab": {}
      },
      "source": [
        "plt.figure(figsize=(25,10))\n",
        "sns.boxplot(y=data['DYRK1A_N'],x=data['class'])"
      ],
      "execution_count": null,
      "outputs": []
    },
    {
      "cell_type": "markdown",
      "metadata": {
        "id": "WczzcCnsT_K2",
        "colab_type": "text"
      },
      "source": [
        "after"
      ]
    },
    {
      "cell_type": "code",
      "metadata": {
        "id": "eqS8axNixAvX",
        "colab_type": "code",
        "colab": {}
      },
      "source": [
        "plt.figure(figsize=(25,10))\n",
        "sns.boxplot(y=data2['DYRK1A_N'],x=data2['class'])\n"
      ],
      "execution_count": null,
      "outputs": []
    },
    {
      "cell_type": "markdown",
      "metadata": {
        "id": "BG-m5EgA3Os1",
        "colab_type": "text"
      },
      "source": [
        "after removing outlire data rows reduce to 1080 to 747"
      ]
    },
    {
      "cell_type": "code",
      "metadata": {
        "id": "0zgDqfRPUipt",
        "colab_type": "code",
        "colab": {}
      },
      "source": [
        "plt.figure(figsize=(25,10))\n",
        "sns.heatmap(data2.isnull(),yticklabels=False,cbar=False)"
      ],
      "execution_count": null,
      "outputs": []
    },
    {
      "cell_type": "code",
      "metadata": {
        "id": "5-yhBA9Gmnjc",
        "colab_type": "code",
        "colab": {}
      },
      "source": [
        "corr = data2.corr().abs()"
      ],
      "execution_count": null,
      "outputs": []
    },
    {
      "cell_type": "code",
      "metadata": {
        "id": "N8bHQyQWhVjB",
        "colab_type": "code",
        "colab": {}
      },
      "source": [
        "type(corr)"
      ],
      "execution_count": null,
      "outputs": []
    },
    {
      "cell_type": "code",
      "metadata": {
        "id": "UJiUlXsShaD9",
        "colab_type": "code",
        "colab": {}
      },
      "source": [
        "corr"
      ],
      "execution_count": null,
      "outputs": []
    },
    {
      "cell_type": "code",
      "metadata": {
        "id": "HIEV5D02o88M",
        "colab_type": "code",
        "colab": {}
      },
      "source": [
        "corr.head()"
      ],
      "execution_count": null,
      "outputs": []
    },
    {
      "cell_type": "code",
      "metadata": {
        "id": "8vzhpQAPuYsT",
        "colab_type": "code",
        "colab": {}
      },
      "source": [
        "upper = corr.where(np.triu(np.ones(corr.shape), k=1).astype(np.bool))"
      ],
      "execution_count": null,
      "outputs": []
    },
    {
      "cell_type": "code",
      "metadata": {
        "id": "8-eLPZlUu5dt",
        "colab_type": "code",
        "colab": {}
      },
      "source": [
        "upper"
      ],
      "execution_count": null,
      "outputs": []
    },
    {
      "cell_type": "code",
      "metadata": {
        "id": "OpqZ3lDBuwzG",
        "colab_type": "code",
        "colab": {}
      },
      "source": [
        "to_drop = [column for column in upper.columns if any(upper[column] > 0.90)]"
      ],
      "execution_count": null,
      "outputs": []
    },
    {
      "cell_type": "code",
      "metadata": {
        "id": "3pSmjGhLu07F",
        "colab_type": "code",
        "colab": {}
      },
      "source": [
        "to_drop # column having higher correlation"
      ],
      "execution_count": null,
      "outputs": []
    },
    {
      "cell_type": "markdown",
      "metadata": {
        "id": "nPOvOy4aV0R0",
        "colab_type": "text"
      },
      "source": [
        ""
      ]
    },
    {
      "cell_type": "markdown",
      "metadata": {
        "id": "nCN3hq9_V0bf",
        "colab_type": "text"
      },
      "source": [
        ""
      ]
    },
    {
      "cell_type": "markdown",
      "metadata": {
        "id": "4jTidN70V0mT",
        "colab_type": "text"
      },
      "source": [
        "**Model building**"
      ]
    },
    {
      "cell_type": "code",
      "metadata": {
        "id": "aX9qzGs1La6S",
        "colab_type": "code",
        "colab": {}
      },
      "source": [
        "x=data2.iloc[:,0:79]\n",
        "#y=data2.iloc[:,80]\n",
        "y=data2.pop('class')\n",
        "\n"
      ],
      "execution_count": null,
      "outputs": []
    },
    {
      "cell_type": "code",
      "metadata": {
        "id": "W3cXvnjxLmYe",
        "colab_type": "code",
        "colab": {}
      },
      "source": [
        "y.shape"
      ],
      "execution_count": null,
      "outputs": []
    },
    {
      "cell_type": "code",
      "metadata": {
        "id": "_x-BPNQ_JYpr",
        "colab_type": "code",
        "colab": {}
      },
      "source": [
        "from sklearn.model_selection import train_test_split \n",
        "X_train, X_test, y_train, y_test = train_test_split(x, y, test_size = 0.25)"
      ],
      "execution_count": null,
      "outputs": []
    },
    {
      "cell_type": "markdown",
      "metadata": {
        "id": "dIgh7mU0WmzQ",
        "colab_type": "text"
      },
      "source": [
        "**why we selecting DecisionTree ?**\n",
        "\n",
        "our problem statement is Multiclass Classification problem \n",
        "we used DecisionTree,KNeighborsClassifier,RandomForestClassifier these algorithum with Mice Protein dataset we come to know that\n",
        "\n",
        "without handling outlire and after cross-validation\n",
        "\n",
        "RandomForestClassifier  71---------------->56\n",
        "\n",
        "KNeighborsClassifier    94---------------->68\n",
        "\n",
        "DecisionTree            92---------------->70\n",
        "\n",
        "all these accuracy from ineuronv3_1 version file\n",
        "\n",
        "**after handling outlire and after cross-validation**\n",
        "\n",
        "RandomForestClassifier   77---------------75\n",
        "\n",
        "KNeighborsClassifier     98--------------82\n",
        "\n",
        "DecisionTree             99--------------99\n",
        "\n",
        "all these accuracy from ineuronv5_1 version file\n"
      ]
    },
    {
      "cell_type": "code",
      "metadata": {
        "id": "khO77wGo53Ko",
        "colab_type": "code",
        "colab": {}
      },
      "source": [
        "from sklearn import tree\n",
        "dt = tree.DecisionTreeClassifier()\n",
        "model = dt.fit(X_train, y_train)\n",
        "prad = model.predict(X_test)"
      ],
      "execution_count": null,
      "outputs": []
    },
    {
      "cell_type": "code",
      "metadata": {
        "id": "QGBnzkXpMQpC",
        "colab_type": "code",
        "colab": {}
      },
      "source": [
        "from sklearn.metrics import accuracy_score\n",
        "accuracy_score(y_test, prad)"
      ],
      "execution_count": null,
      "outputs": []
    },
    {
      "cell_type": "code",
      "metadata": {
        "id": "-F5uM-u9qa3O",
        "colab_type": "code",
        "colab": {}
      },
      "source": [
        "from sklearn.model_selection import cross_val_score\n",
        "score=cross_val_score(model,x,y,cv=10)"
      ],
      "execution_count": null,
      "outputs": []
    },
    {
      "cell_type": "code",
      "metadata": {
        "id": "-huDgI4yqrgA",
        "colab_type": "code",
        "colab": {}
      },
      "source": [
        "score.mean()"
      ],
      "execution_count": null,
      "outputs": []
    },
    {
      "cell_type": "markdown",
      "metadata": {
        "id": "4I5TZdeKZfVe",
        "colab_type": "text"
      },
      "source": [
        "**98.11**"
      ]
    },
    {
      "cell_type": "markdown",
      "metadata": {
        "id": "Ca3-i4weZwGp",
        "colab_type": "text"
      },
      "source": [
        "**store model into pickle file**"
      ]
    },
    {
      "cell_type": "code",
      "metadata": {
        "id": "KyHtnjaXaD-S",
        "colab_type": "code",
        "colab": {}
      },
      "source": [
        "X_test.to_csv('file.csv')"
      ],
      "execution_count": null,
      "outputs": []
    },
    {
      "cell_type": "code",
      "metadata": {
        "id": "zZTLmOmJZvRI",
        "colab_type": "code",
        "colab": {}
      },
      "source": [
        "import pickle\n",
        "pickle_out = open(\"classifier.pkl\",\"wb\")\n",
        "pickle.dump(model, pickle_out)\n",
        "pickle_out.close()"
      ],
      "execution_count": null,
      "outputs": []
    }
  ]
}